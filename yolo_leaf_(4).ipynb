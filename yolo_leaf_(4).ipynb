{
  "metadata": {
    "colab": {
      "provenance": [],
      "gpuType": "T4"
    },
    "kernelspec": {
      "name": "python3",
      "display_name": "Python 3",
      "language": "python"
    },
    "language_info": {
      "name": "python",
      "version": "3.10.13",
      "mimetype": "text/x-python",
      "codemirror_mode": {
        "name": "ipython",
        "version": 3
      },
      "pygments_lexer": "ipython3",
      "nbconvert_exporter": "python",
      "file_extension": ".py"
    },
    "accelerator": "GPU",
    "kaggle": {
      "accelerator": "nvidiaTeslaT4",
      "dataSources": [
        {
          "sourceId": 7941678,
          "sourceType": "datasetVersion",
          "datasetId": 4669258
        },
        {
          "sourceId": 7941691,
          "sourceType": "datasetVersion",
          "datasetId": 4669267
        },
        {
          "sourceId": 7941746,
          "sourceType": "datasetVersion",
          "datasetId": 4669308
        },
        {
          "sourceId": 7943013,
          "sourceType": "datasetVersion",
          "datasetId": 4670113
        },
        {
          "sourceId": 7943070,
          "sourceType": "datasetVersion",
          "datasetId": 4670153
        },
        {
          "sourceId": 7945682,
          "sourceType": "datasetVersion",
          "datasetId": 4672012
        }
      ],
      "dockerImageVersionId": 30674,
      "isInternetEnabled": true,
      "language": "python",
      "sourceType": "notebook",
      "isGpuEnabled": true
    }
  },
  "nbformat_minor": 0,
  "nbformat": 4,
  "cells": [
    {
      "cell_type": "code",
      "source": [
        "!git clone https://github.com/pratikkayal/PlantDoc-Object-Detection-Dataset.git"
      ],
      "metadata": {
        "colab": {
          "base_uri": "https://localhost:8080/"
        },
        "id": "jCAJK3GTYLuQ",
        "outputId": "b63571a1-95de-4a05-975c-b5cdc0e58ad4",
        "execution": {
          "iopub.status.busy": "2024-03-26T10:47:52.963947Z",
          "iopub.execute_input": "2024-03-26T10:47:52.964277Z",
          "iopub.status.idle": "2024-03-26T10:47:53.925133Z",
          "shell.execute_reply.started": "2024-03-26T10:47:52.964249Z",
          "shell.execute_reply": "2024-03-26T10:47:53.924022Z"
        },
        "editable": false,
        "trusted": true
      },
      "execution_count": null,
      "outputs": [
        {
          "name": "stdout",
          "text": "fatal: destination path 'PlantDoc-Object-Detection-Dataset' already exists and is not an empty directory.\n",
          "output_type": "stream"
        }
      ]
    },
    {
      "cell_type": "code",
      "source": [
        "import pandas as pd\n",
        "df=pd.read_csv(\"/kaggle/working/PlantDoc-Object-Detection-Dataset/train_labels.csv\")\n",
        "df"
      ],
      "metadata": {
        "colab": {
          "base_uri": "https://localhost:8080/",
          "height": 423
        },
        "id": "XVy4HriHYN7z",
        "outputId": "7e6e309c-afb6-432b-98b2-f3822ef54529",
        "execution": {
          "iopub.status.busy": "2024-03-26T10:47:53.926963Z",
          "iopub.execute_input": "2024-03-26T10:47:53.927252Z",
          "iopub.status.idle": "2024-03-26T10:47:54.316870Z",
          "shell.execute_reply.started": "2024-03-26T10:47:53.927225Z",
          "shell.execute_reply": "2024-03-26T10:47:54.315730Z"
        },
        "editable": false,
        "trusted": true
      },
      "execution_count": null,
      "outputs": [
        {
          "execution_count": 2,
          "output_type": "execute_result",
          "data": {
            "text/plain": "                                    filename  width  height  \\\n0          cherry-tree-leaves-and-fruits.jpg    350     300   \n1          cherry-tree-leaves-and-fruits.jpg    350     300   \n2          cherry-tree-leaves-and-fruits.jpg    350     300   \n3          cherry-tree-leaves-and-fruits.jpg    350     300   \n4     peach-and-leaf-stock-image-2809275.jpg   1300    1099   \n...                                      ...    ...     ...   \n8464     pddl-highlights-fig-1-bact-spot.jpg   1500    1000   \n8465     pddl-highlights-fig-1-bact-spot.jpg   1500    1000   \n8466     pddl-highlights-fig-1-bact-spot.jpg   1500    1000   \n8467         bacterialLeafSpot07-2jqdlmz.jpg   4000    3000   \n8468           2159_0.jpeg?itok=eBFRbolm.jpg    256     385   \n\n                           class  xmin  ymin  xmax  ymax  \n0                    Cherry leaf   198    77   299   252  \n1                    Cherry leaf     3   114   148   235  \n2                    Cherry leaf    30   184   189   297  \n3                    Cherry leaf   226     4   346    83  \n4                     Peach leaf   237   479   527   810  \n...                          ...   ...   ...   ...   ...  \n8464  Tomato leaf bacterial spot    17   204   271   433  \n8465  Tomato leaf bacterial spot   279   180   459   489  \n8466  Tomato leaf bacterial spot   588   267   931   740  \n8467  Tomato leaf bacterial spot  1065   512  2972  2157  \n8468            Corn leaf blight    39     1   208   368  \n\n[8469 rows x 8 columns]",
            "text/html": "<div>\n<style scoped>\n    .dataframe tbody tr th:only-of-type {\n        vertical-align: middle;\n    }\n\n    .dataframe tbody tr th {\n        vertical-align: top;\n    }\n\n    .dataframe thead th {\n        text-align: right;\n    }\n</style>\n<table border=\"1\" class=\"dataframe\">\n  <thead>\n    <tr style=\"text-align: right;\">\n      <th></th>\n      <th>filename</th>\n      <th>width</th>\n      <th>height</th>\n      <th>class</th>\n      <th>xmin</th>\n      <th>ymin</th>\n      <th>xmax</th>\n      <th>ymax</th>\n    </tr>\n  </thead>\n  <tbody>\n    <tr>\n      <th>0</th>\n      <td>cherry-tree-leaves-and-fruits.jpg</td>\n      <td>350</td>\n      <td>300</td>\n      <td>Cherry leaf</td>\n      <td>198</td>\n      <td>77</td>\n      <td>299</td>\n      <td>252</td>\n    </tr>\n    <tr>\n      <th>1</th>\n      <td>cherry-tree-leaves-and-fruits.jpg</td>\n      <td>350</td>\n      <td>300</td>\n      <td>Cherry leaf</td>\n      <td>3</td>\n      <td>114</td>\n      <td>148</td>\n      <td>235</td>\n    </tr>\n    <tr>\n      <th>2</th>\n      <td>cherry-tree-leaves-and-fruits.jpg</td>\n      <td>350</td>\n      <td>300</td>\n      <td>Cherry leaf</td>\n      <td>30</td>\n      <td>184</td>\n      <td>189</td>\n      <td>297</td>\n    </tr>\n    <tr>\n      <th>3</th>\n      <td>cherry-tree-leaves-and-fruits.jpg</td>\n      <td>350</td>\n      <td>300</td>\n      <td>Cherry leaf</td>\n      <td>226</td>\n      <td>4</td>\n      <td>346</td>\n      <td>83</td>\n    </tr>\n    <tr>\n      <th>4</th>\n      <td>peach-and-leaf-stock-image-2809275.jpg</td>\n      <td>1300</td>\n      <td>1099</td>\n      <td>Peach leaf</td>\n      <td>237</td>\n      <td>479</td>\n      <td>527</td>\n      <td>810</td>\n    </tr>\n    <tr>\n      <th>...</th>\n      <td>...</td>\n      <td>...</td>\n      <td>...</td>\n      <td>...</td>\n      <td>...</td>\n      <td>...</td>\n      <td>...</td>\n      <td>...</td>\n    </tr>\n    <tr>\n      <th>8464</th>\n      <td>pddl-highlights-fig-1-bact-spot.jpg</td>\n      <td>1500</td>\n      <td>1000</td>\n      <td>Tomato leaf bacterial spot</td>\n      <td>17</td>\n      <td>204</td>\n      <td>271</td>\n      <td>433</td>\n    </tr>\n    <tr>\n      <th>8465</th>\n      <td>pddl-highlights-fig-1-bact-spot.jpg</td>\n      <td>1500</td>\n      <td>1000</td>\n      <td>Tomato leaf bacterial spot</td>\n      <td>279</td>\n      <td>180</td>\n      <td>459</td>\n      <td>489</td>\n    </tr>\n    <tr>\n      <th>8466</th>\n      <td>pddl-highlights-fig-1-bact-spot.jpg</td>\n      <td>1500</td>\n      <td>1000</td>\n      <td>Tomato leaf bacterial spot</td>\n      <td>588</td>\n      <td>267</td>\n      <td>931</td>\n      <td>740</td>\n    </tr>\n    <tr>\n      <th>8467</th>\n      <td>bacterialLeafSpot07-2jqdlmz.jpg</td>\n      <td>4000</td>\n      <td>3000</td>\n      <td>Tomato leaf bacterial spot</td>\n      <td>1065</td>\n      <td>512</td>\n      <td>2972</td>\n      <td>2157</td>\n    </tr>\n    <tr>\n      <th>8468</th>\n      <td>2159_0.jpeg?itok=eBFRbolm.jpg</td>\n      <td>256</td>\n      <td>385</td>\n      <td>Corn leaf blight</td>\n      <td>39</td>\n      <td>1</td>\n      <td>208</td>\n      <td>368</td>\n    </tr>\n  </tbody>\n</table>\n<p>8469 rows × 8 columns</p>\n</div>"
          },
          "metadata": {}
        }
      ]
    },
    {
      "cell_type": "code",
      "source": [
        "import pandas as pd\n",
        "df1=pd.read_csv(\"/kaggle/working/PlantDoc-Object-Detection-Dataset/test_labels.csv\")\n",
        "len(df1[\"class\"].unique())"
      ],
      "metadata": {
        "colab": {
          "base_uri": "https://localhost:8080/"
        },
        "id": "UR19nx-IU8XD",
        "outputId": "4b2233aa-3ad6-4a4e-af0b-f45d929870e4",
        "execution": {
          "iopub.status.busy": "2024-03-26T10:47:54.318750Z",
          "iopub.execute_input": "2024-03-26T10:47:54.319097Z",
          "iopub.status.idle": "2024-03-26T10:47:54.329220Z",
          "shell.execute_reply.started": "2024-03-26T10:47:54.319069Z",
          "shell.execute_reply": "2024-03-26T10:47:54.328339Z"
        },
        "editable": false,
        "trusted": true
      },
      "execution_count": null,
      "outputs": [
        {
          "execution_count": 3,
          "output_type": "execute_result",
          "data": {
            "text/plain": "27"
          },
          "metadata": {}
        }
      ]
    },
    {
      "cell_type": "code",
      "source": [
        "df[\"class\"].unique()"
      ],
      "metadata": {
        "colab": {
          "base_uri": "https://localhost:8080/"
        },
        "id": "1UWJNFEQU5L1",
        "outputId": "bcdbf29c-b758-4b3e-86e5-d400dcc98bb6",
        "execution": {
          "iopub.status.busy": "2024-03-26T10:47:54.477404Z",
          "iopub.execute_input": "2024-03-26T10:47:54.477675Z",
          "iopub.status.idle": "2024-03-26T10:47:54.484606Z",
          "shell.execute_reply.started": "2024-03-26T10:47:54.477651Z",
          "shell.execute_reply": "2024-03-26T10:47:54.483645Z"
        },
        "editable": false,
        "trusted": true
      },
      "execution_count": null,
      "outputs": [
        {
          "execution_count": 4,
          "output_type": "execute_result",
          "data": {
            "text/plain": "array(['Cherry leaf', 'Peach leaf', 'Corn leaf blight', 'Apple rust leaf',\n       'Potato leaf late blight', 'Strawberry leaf', 'Corn rust leaf',\n       'Tomato leaf late blight', 'Tomato mold leaf',\n       'Potato leaf early blight', 'Apple leaf',\n       'Tomato leaf yellow virus', 'Blueberry leaf',\n       'Tomato leaf mosaic virus', 'Raspberry leaf',\n       'Tomato leaf bacterial spot', 'Squash Powdery mildew leaf',\n       'grape leaf', 'Corn Gray leaf spot', 'Tomato Early blight leaf',\n       'Apple Scab Leaf', 'Tomato Septoria leaf spot', 'Tomato leaf',\n       'Soyabean leaf', 'Bell_pepper leaf spot', 'Bell_pepper leaf',\n       'grape leaf black rot', 'Potato leaf',\n       'Tomato two spotted spider mites leaf'], dtype=object)"
          },
          "metadata": {}
        }
      ]
    },
    {
      "cell_type": "code",
      "source": [
        "df1[\"class\"].unique()"
      ],
      "metadata": {
        "colab": {
          "base_uri": "https://localhost:8080/"
        },
        "id": "U6JikVkJWqo8",
        "outputId": "76965885-7067-4f12-c761-c556c5461736",
        "execution": {
          "iopub.status.busy": "2024-03-26T10:47:55.644995Z",
          "iopub.execute_input": "2024-03-26T10:47:55.645351Z",
          "iopub.status.idle": "2024-03-26T10:47:55.653264Z",
          "shell.execute_reply.started": "2024-03-26T10:47:55.645323Z",
          "shell.execute_reply": "2024-03-26T10:47:55.652352Z"
        },
        "editable": false,
        "trusted": true
      },
      "execution_count": null,
      "outputs": [
        {
          "execution_count": 5,
          "output_type": "execute_result",
          "data": {
            "text/plain": "array(['grape leaf black rot', 'Bell_pepper leaf', 'Raspberry leaf',\n       'Tomato mold leaf', 'Tomato leaf', 'Corn rust leaf',\n       'Bell_pepper leaf spot', 'grape leaf', 'Cherry leaf', 'Apple leaf',\n       'Squash Powdery mildew leaf', 'Peach leaf',\n       'Potato leaf early blight', 'Tomato leaf bacterial spot',\n       'Potato leaf late blight', 'Blueberry leaf', 'Corn leaf blight',\n       'Tomato leaf mosaic virus', 'Corn Gray leaf spot',\n       'Apple rust leaf', 'Tomato Septoria leaf spot', 'Apple Scab Leaf',\n       'Soyabean leaf', 'Tomato leaf late blight',\n       'Tomato Early blight leaf', 'Strawberry leaf',\n       'Tomato leaf yellow virus'], dtype=object)"
          },
          "metadata": {}
        }
      ]
    },
    {
      "cell_type": "code",
      "source": [
        "list1 = list(df[\"class\"])\n",
        "list2 = list(df1[\"class\"])\n",
        "\n",
        "# Find elements in list1 that are not in list2\n",
        "only_in_list1 = [item for item in list1 if item not in list2]\n",
        "\n",
        "# Find elements in list2 that are not in list1\n",
        "only_in_list2 = [item for item in list2 if item not in list1]\n",
        "\n",
        "print(\"Elements only in list1:\", only_in_list1)\n",
        "print(\"Elements only in list2:\", only_in_list2)\n"
      ],
      "metadata": {
        "colab": {
          "base_uri": "https://localhost:8080/"
        },
        "id": "7o0HouPyVQtS",
        "outputId": "7488d351-a087-4c6b-da57-5e6e569bb8c2",
        "execution": {
          "iopub.status.busy": "2024-03-26T10:47:55.919378Z",
          "iopub.execute_input": "2024-03-26T10:47:55.919850Z",
          "iopub.status.idle": "2024-03-26T10:47:55.931787Z",
          "shell.execute_reply.started": "2024-03-26T10:47:55.919826Z",
          "shell.execute_reply": "2024-03-26T10:47:55.930941Z"
        },
        "editable": false,
        "trusted": true
      },
      "execution_count": null,
      "outputs": [
        {
          "name": "stdout",
          "text": "Elements only in list1: ['Potato leaf', 'Potato leaf', 'Potato leaf', 'Potato leaf', 'Potato leaf', 'Potato leaf', 'Potato leaf', 'Tomato two spotted spider mites leaf', 'Potato leaf', 'Potato leaf', 'Potato leaf', 'Potato leaf', 'Tomato two spotted spider mites leaf']\nElements only in list2: []\n",
          "output_type": "stream"
        }
      ]
    },
    {
      "cell_type": "code",
      "source": [],
      "metadata": {
        "id": "nOSvbTvyXOwR",
        "editable": false
      },
      "execution_count": null,
      "outputs": []
    },
    {
      "cell_type": "code",
      "source": [
        "import pandas as pd\n",
        "import os\n",
        "import shutil\n",
        "\n",
        "# Load dataset into DataFrame\n",
        "df = pd.read_csv('/kaggle/working/PlantDoc-Object-Detection-Dataset/train_labels.csv')\n",
        "\n",
        "# Paths\n",
        "image_folder = '/kaggle/working/PlantDoc-Object-Detection-Dataset/TRAIN'\n",
        "train_folder = '/kaggle/working/train/images'\n",
        "annotation_folder = '/kaggle/working/train/labels'\n",
        "\n",
        "# Create test folder if not exists\n",
        "os.makedirs('/kaggle/working/train', exist_ok=True)\n",
        "\n",
        "# Function to create class folders\n",
        "def create_class_folders(df, folder_path):\n",
        "    classes = df['class'].unique()\n",
        "    for class_name in classes:\n",
        "        class_folder = os.path.join(folder_path, class_name)\n",
        "        os.makedirs(class_folder, exist_ok=True)\n",
        "\n",
        "# Create class folders in train and annotation folders\n",
        "create_class_folders(df, train_folder)\n",
        "create_class_folders(df, annotation_folder)\n",
        "\n",
        "# Function to process images with multiple bounding boxes\n",
        "def process_image_with_multiple_boxes(group):\n",
        "    image_name = group['filename'].iloc[0]  # Assume the image name is the same for all rows in the group\n",
        "    class_name = group['class'].iloc[0]  # Get the class name\n",
        "    image_path = os.path.join(image_folder, image_name)\n",
        "    train_image_path = os.path.join(train_folder, class_name, image_name)\n",
        "\n",
        "    # Concatenate all bounding boxes into one annotation\n",
        "    annotation_text = '\\n'.join([f\"0 {row['xmin']} {row['ymin']} {row['xmax']} {row['ymax']}\" for _, row in group.iterrows()])\n",
        "\n",
        "    annotation_file_path = os.path.join(annotation_folder, class_name, os.path.splitext(image_name)[0] + '.txt')\n",
        "\n",
        "    # Copy image to train folder\n",
        "    if os.path.exists(image_path):\n",
        "        shutil.copy(image_path, train_image_path)\n",
        "        # Write annotation to text file\n",
        "        with open(annotation_file_path, 'w') as f:\n",
        "            f.write(annotation_text)\n",
        "\n",
        "# Group DataFrame by filename and process each group\n",
        "grouped = df.groupby('filename')\n",
        "grouped.apply(process_image_with_multiple_boxes)\n"
      ],
      "metadata": {
        "colab": {
          "base_uri": "https://localhost:8080/",
          "height": 53
        },
        "id": "hBxoJIaDYRE9",
        "outputId": "b2225a4a-b590-4d5c-a7bd-96a8124d5398",
        "execution": {
          "iopub.status.busy": "2024-03-26T10:48:00.149983Z",
          "iopub.execute_input": "2024-03-26T10:48:00.150368Z",
          "iopub.status.idle": "2024-03-26T10:48:02.781174Z",
          "shell.execute_reply.started": "2024-03-26T10:48:00.150332Z",
          "shell.execute_reply": "2024-03-26T10:48:02.780194Z"
        },
        "editable": false,
        "trusted": true
      },
      "execution_count": null,
      "outputs": [
        {
          "name": "stderr",
          "text": "/tmp/ipykernel_12517/3395566152.py:48: DeprecationWarning: DataFrameGroupBy.apply operated on the grouping columns. This behavior is deprecated, and in a future version of pandas the grouping columns will be excluded from the operation. Either pass `include_groups=False` to exclude the groupings or explicitly select the grouping columns after groupby to silence this warning.\n  grouped.apply(process_image_with_multiple_boxes)\n",
          "output_type": "stream"
        },
        {
          "execution_count": 7,
          "output_type": "execute_result",
          "data": {
            "text/plain": "Empty DataFrame\nColumns: []\nIndex: []",
            "text/html": "<div>\n<style scoped>\n    .dataframe tbody tr th:only-of-type {\n        vertical-align: middle;\n    }\n\n    .dataframe tbody tr th {\n        vertical-align: top;\n    }\n\n    .dataframe thead th {\n        text-align: right;\n    }\n</style>\n<table border=\"1\" class=\"dataframe\">\n  <thead>\n    <tr style=\"text-align: right;\">\n      <th></th>\n    </tr>\n  </thead>\n  <tbody>\n  </tbody>\n</table>\n</div>"
          },
          "metadata": {}
        }
      ]
    },
    {
      "cell_type": "code",
      "source": [
        "import pandas as pd\n",
        "import os\n",
        "import shutil\n",
        "\n",
        "# Load dataset into DataFrame\n",
        "df = pd.read_csv('/kaggle/working/PlantDoc-Object-Detection-Dataset/test_labels.csv')\n",
        "\n",
        "# Paths\n",
        "image_folder = '/kaggle/working/PlantDoc-Object-Detection-Dataset/TEST'\n",
        "train_folder = '/kaggle/working/test/images'\n",
        "annotation_folder = '/kaggle/working/test/labels'\n",
        "\n",
        "# Create test folder if not exists\n",
        "os.makedirs('/kaggle/working/test', exist_ok=True)\n",
        "\n",
        "\n",
        "# Create test folder if not exists\n",
        "os.makedirs('/content/test', exist_ok=True)\n",
        "\n",
        "# Function to create class folders\n",
        "def create_class_folders(df, folder_path):\n",
        "    classes = df['class'].unique()\n",
        "    for class_name in classes:\n",
        "        class_folder = os.path.join(folder_path, class_name)\n",
        "        os.makedirs(class_folder, exist_ok=True)\n",
        "\n",
        "# Create class folders in train and annotation folders\n",
        "create_class_folders(df, train_folder)\n",
        "create_class_folders(df, annotation_folder)\n",
        "\n",
        "# Function to process images with multiple bounding boxes\n",
        "def process_image_with_multiple_boxes(group):\n",
        "    image_name = group['filename'].iloc[0]  # Assume the image name is the same for all rows in the group\n",
        "    class_name = group['class'].iloc[0]  # Get the class name\n",
        "    image_path = os.path.join(image_folder, image_name)\n",
        "    train_image_path = os.path.join(train_folder, class_name, image_name)\n",
        "\n",
        "    # Concatenate all bounding boxes into one annotation\n",
        "    annotation_text = '\\n'.join([f\"0 {row['xmin']} {row['ymin']} {row['xmax']} {row['ymax']}\" for _, row in group.iterrows()])\n",
        "\n",
        "    annotation_file_path = os.path.join(annotation_folder, class_name, os.path.splitext(image_name)[0] + '.txt')\n",
        "\n",
        "    # Copy image to train folder\n",
        "    if os.path.exists(image_path):\n",
        "        shutil.copy(image_path, train_image_path)\n",
        "        # Write annotation to text file\n",
        "        with open(annotation_file_path, 'w') as f:\n",
        "            f.write(annotation_text)\n",
        "\n",
        "# Group DataFrame by filename and process each group\n",
        "grouped = df.groupby('filename')\n",
        "grouped.apply(process_image_with_multiple_boxes)\n"
      ],
      "metadata": {
        "colab": {
          "base_uri": "https://localhost:8080/",
          "height": 53
        },
        "id": "O-zW_QuhYbHr",
        "outputId": "b7dd2768-a826-4e1d-c52b-b77d9302cb23",
        "execution": {
          "iopub.status.busy": "2024-03-26T10:48:02.782837Z",
          "iopub.execute_input": "2024-03-26T10:48:02.783142Z",
          "iopub.status.idle": "2024-03-26T10:48:03.023970Z",
          "shell.execute_reply.started": "2024-03-26T10:48:02.783116Z",
          "shell.execute_reply": "2024-03-26T10:48:03.023071Z"
        },
        "editable": false,
        "trusted": true
      },
      "execution_count": null,
      "outputs": [
        {
          "name": "stderr",
          "text": "/tmp/ipykernel_12517/2097249224.py:52: DeprecationWarning: DataFrameGroupBy.apply operated on the grouping columns. This behavior is deprecated, and in a future version of pandas the grouping columns will be excluded from the operation. Either pass `include_groups=False` to exclude the groupings or explicitly select the grouping columns after groupby to silence this warning.\n  grouped.apply(process_image_with_multiple_boxes)\n",
          "output_type": "stream"
        },
        {
          "execution_count": 8,
          "output_type": "execute_result",
          "data": {
            "text/plain": "Empty DataFrame\nColumns: []\nIndex: []",
            "text/html": "<div>\n<style scoped>\n    .dataframe tbody tr th:only-of-type {\n        vertical-align: middle;\n    }\n\n    .dataframe tbody tr th {\n        vertical-align: top;\n    }\n\n    .dataframe thead th {\n        text-align: right;\n    }\n</style>\n<table border=\"1\" class=\"dataframe\">\n  <thead>\n    <tr style=\"text-align: right;\">\n      <th></th>\n    </tr>\n  </thead>\n  <tbody>\n  </tbody>\n</table>\n</div>"
          },
          "metadata": {}
        }
      ]
    },
    {
      "cell_type": "code",
      "source": [
        "len(os.listdir(\"/kaggle/working/train/labels\"))"
      ],
      "metadata": {
        "colab": {
          "base_uri": "https://localhost:8080/"
        },
        "id": "fD2Ypjeky0Ww",
        "outputId": "f7b3c2e7-b8e3-4cc4-e16f-279b4794c912",
        "execution": {
          "iopub.status.busy": "2024-03-26T10:49:46.659385Z",
          "iopub.execute_input": "2024-03-26T10:49:46.659750Z",
          "iopub.status.idle": "2024-03-26T10:49:46.666997Z",
          "shell.execute_reply.started": "2024-03-26T10:49:46.659719Z",
          "shell.execute_reply": "2024-03-26T10:49:46.665879Z"
        },
        "editable": false,
        "trusted": true
      },
      "execution_count": null,
      "outputs": [
        {
          "execution_count": 24,
          "output_type": "execute_result",
          "data": {
            "text/plain": "6"
          },
          "metadata": {}
        }
      ]
    },
    {
      "cell_type": "code",
      "source": [
        "len(os.listdir(\"/kaggle/working/train/images\"))"
      ],
      "metadata": {
        "colab": {
          "base_uri": "https://localhost:8080/"
        },
        "id": "OnlCUHcly0bE",
        "outputId": "6c6e23f5-3ce6-4023-ef1c-ee3ebbfdbcf8",
        "execution": {
          "iopub.status.busy": "2024-03-26T10:49:47.057953Z",
          "iopub.execute_input": "2024-03-26T10:49:47.058473Z",
          "iopub.status.idle": "2024-03-26T10:49:47.065169Z",
          "shell.execute_reply.started": "2024-03-26T10:49:47.058433Z",
          "shell.execute_reply": "2024-03-26T10:49:47.064276Z"
        },
        "editable": false,
        "trusted": true
      },
      "execution_count": null,
      "outputs": [
        {
          "execution_count": 25,
          "output_type": "execute_result",
          "data": {
            "text/plain": "5"
          },
          "metadata": {}
        }
      ]
    },
    {
      "cell_type": "code",
      "source": [
        "len(os.listdir(\"/kaggle/working/test/labels\"))"
      ],
      "metadata": {
        "colab": {
          "base_uri": "https://localhost:8080/"
        },
        "id": "zUb1pb6Sy0fA",
        "outputId": "450840e9-0180-4cde-b2d1-0b4e8d033e4d",
        "execution": {
          "iopub.status.busy": "2024-03-26T10:49:47.697690Z",
          "iopub.execute_input": "2024-03-26T10:49:47.698750Z",
          "iopub.status.idle": "2024-03-26T10:49:47.704735Z",
          "shell.execute_reply.started": "2024-03-26T10:49:47.698715Z",
          "shell.execute_reply": "2024-03-26T10:49:47.703863Z"
        },
        "editable": false,
        "trusted": true
      },
      "execution_count": null,
      "outputs": [
        {
          "execution_count": 26,
          "output_type": "execute_result",
          "data": {
            "text/plain": "6"
          },
          "metadata": {}
        }
      ]
    },
    {
      "cell_type": "code",
      "source": [
        "len(os.listdir(\"/kaggle/working/test/images\"))"
      ],
      "metadata": {
        "colab": {
          "base_uri": "https://localhost:8080/"
        },
        "id": "ANkWLEYHy0iw",
        "outputId": "538c100f-a819-4817-a1cd-8f63b3814cbf",
        "execution": {
          "iopub.status.busy": "2024-03-26T10:49:48.407417Z",
          "iopub.execute_input": "2024-03-26T10:49:48.408377Z",
          "iopub.status.idle": "2024-03-26T10:49:48.414594Z",
          "shell.execute_reply.started": "2024-03-26T10:49:48.408336Z",
          "shell.execute_reply": "2024-03-26T10:49:48.413637Z"
        },
        "editable": false,
        "trusted": true
      },
      "execution_count": null,
      "outputs": [
        {
          "execution_count": 27,
          "output_type": "execute_result",
          "data": {
            "text/plain": "5"
          },
          "metadata": {}
        }
      ]
    },
    {
      "cell_type": "code",
      "source": [
        "list1 = os.listdir('/kaggle/working/train/labels')\n",
        "list2 = os.listdir('/kaggle/working/test/images')\n",
        "\n",
        "# Find elements in list1 that are not in list2\n",
        "only_in_list1 = [item for item in list1 if item not in list2]\n",
        "\n",
        "# Find elements in list2 that are not in list1\n",
        "only_in_list2 = [item for item in list2 if item not in list1]\n",
        "\n",
        "print(\"Elements only in list1:\", only_in_list1)\n",
        "print(\"Elements only in list2:\", only_in_list2)\n"
      ],
      "metadata": {
        "colab": {
          "base_uri": "https://localhost:8080/"
        },
        "id": "JcSOG6v5y0lj",
        "outputId": "00683df0-d027-4616-8cb9-84df3759cb2c",
        "execution": {
          "iopub.status.busy": "2024-03-26T10:49:55.061246Z",
          "iopub.execute_input": "2024-03-26T10:49:55.061645Z",
          "iopub.status.idle": "2024-03-26T10:49:55.068562Z",
          "shell.execute_reply.started": "2024-03-26T10:49:55.061615Z",
          "shell.execute_reply": "2024-03-26T10:49:55.067599Z"
        },
        "editable": false,
        "trusted": true
      },
      "execution_count": null,
      "outputs": [
        {
          "name": "stdout",
          "text": "Elements only in list1: ['Apple Scab Leaf.cache']\nElements only in list2: []\n",
          "output_type": "stream"
        }
      ]
    },
    {
      "cell_type": "code",
      "source": [
        "['grape leaf black rot', 'Bell_pepper leaf', 'Raspberry leaf',\n",
        "       'Tomato mold leaf', 'Tomato leaf', 'Corn rust leaf',\n",
        "       'Bell_pepper leaf spot', 'grape leaf', 'Cherry leaf', 'Apple leaf',\n",
        "       'Squash Powdery mildew leaf', 'Peach leaf',\n",
        "       'Potato leaf early blight', 'Tomato leaf bacterial spot',\n",
        "       'Potato leaf late blight', 'Blueberry leaf', 'Corn leaf blight',\n",
        "       'Tomato leaf mosaic virus', 'Corn Gray leaf spot',\n",
        "       'Apple rust leaf', 'Tomato Septoria leaf spot', 'Apple Scab Leaf',\n",
        "       'Soyabean leaf', 'Tomato leaf late blight',\n",
        "       'Tomato Early blight leaf', 'Strawberry leaf',\n",
        "       'Tomato leaf yellow virus']"
      ],
      "metadata": {
        "editable": false,
        "id": "CCkswwscT1oB"
      },
      "execution_count": null,
      "outputs": []
    },
    {
      "cell_type": "code",
      "source": [
        "import os\n",
        "import shutil\n",
        "\n",
        "def keep_only_specific_directories(main_folder, specific_list):\n",
        "    # Get list of directories in the main folder\n",
        "    all_directories = [d for d in os.listdir(main_folder) if os.path.isdir(os.path.join(main_folder, d))]\n",
        "\n",
        "    # Iterate through the directories\n",
        "    for directory in all_directories:\n",
        "        # Check if the directory exists in the specific list\n",
        "        if directory not in specific_list:\n",
        "            # If not, delete the directory\n",
        "            directory_path = os.path.join(main_folder, directory)\n",
        "            print(f\"Deleting directory: {directory_path}\")\n",
        "            shutil.rmtree(directory_path)  # Use shutil.rmtree() to remove the directory and its contents\n",
        "\n",
        "# Example usage\n",
        "main_folder = \"/kaggle/working/train/images\"\n",
        "specific_list = [\"Apple Scab Leaf\", \"Corn leaf blight\", \"Tomato leaf mosaic virus\", \"Potato leaf early blight\", \"grape leaf black rot\"]\n",
        "\n",
        "keep_only_specific_directories(main_folder, specific_list)\n"
      ],
      "metadata": {
        "execution": {
          "iopub.status.busy": "2024-03-26T10:49:43.521574Z",
          "iopub.execute_input": "2024-03-26T10:49:43.521958Z",
          "iopub.status.idle": "2024-03-26T10:49:43.718071Z",
          "shell.execute_reply.started": "2024-03-26T10:49:43.521930Z",
          "shell.execute_reply": "2024-03-26T10:49:43.717139Z"
        },
        "editable": false,
        "trusted": true,
        "id": "poaoESgUT1oB",
        "outputId": "0ccb8fe7-8c81-473d-c778-9150e5147b2f"
      },
      "execution_count": null,
      "outputs": [
        {
          "name": "stdout",
          "text": "Deleting directory: /kaggle/working/train/images/Corn rust leaf\nDeleting directory: /kaggle/working/train/images/Squash Powdery mildew leaf\nDeleting directory: /kaggle/working/train/images/Strawberry leaf\nDeleting directory: /kaggle/working/train/images/Tomato leaf bacterial spot\nDeleting directory: /kaggle/working/train/images/Corn Gray leaf spot\nDeleting directory: /kaggle/working/train/images/Tomato Early blight leaf\nDeleting directory: /kaggle/working/train/images/Raspberry leaf\nDeleting directory: /kaggle/working/train/images/Tomato leaf late blight\nDeleting directory: /kaggle/working/train/images/Bell_pepper leaf\nDeleting directory: /kaggle/working/train/images/Peach leaf\nDeleting directory: /kaggle/working/train/images/Cherry leaf\nDeleting directory: /kaggle/working/train/images/Potato leaf late blight\nDeleting directory: /kaggle/working/train/images/Tomato Septoria leaf spot\nDeleting directory: /kaggle/working/train/images/Tomato mold leaf\nDeleting directory: /kaggle/working/train/images/Bell_pepper leaf spot\nDeleting directory: /kaggle/working/train/images/Apple leaf\nDeleting directory: /kaggle/working/train/images/Apple rust leaf\nDeleting directory: /kaggle/working/train/images/Tomato leaf\nDeleting directory: /kaggle/working/train/images/grape leaf\nDeleting directory: /kaggle/working/train/images/Soyabean leaf\nDeleting directory: /kaggle/working/train/images/Blueberry leaf\nDeleting directory: /kaggle/working/train/images/Tomato leaf yellow virus\n",
          "output_type": "stream"
        }
      ]
    },
    {
      "cell_type": "code",
      "source": [
        "import os\n",
        "import shutil\n",
        "\n",
        "# Define the paths of the folders to be deleted\n",
        "folder1_path = '/kaggle/working/train/labels/Tomato two spotted spider mites leaf'\n",
        "folder2_path = '/kaggle/working/train/labels/Potato leaf'\n",
        "\n",
        "# Check if the folders exist\n",
        "if os.path.exists(folder1_path):\n",
        "    # Remove the first folder\n",
        "    shutil.rmtree(folder1_path)\n",
        "    print(f\"Folder {folder1_path} deleted successfully.\")\n",
        "else:\n",
        "    print(f\"Folder {folder1_path} does not exist.\")\n",
        "\n",
        "if os.path.exists(folder2_path):\n",
        "    # Remove the second folder\n",
        "    shutil.rmtree(folder2_path)\n",
        "    print(f\"Folder {folder2_path} deleted successfully.\")\n",
        "else:\n",
        "    print(f\"Folder {folder2_path} does not exist.\")\n"
      ],
      "metadata": {
        "colab": {
          "base_uri": "https://localhost:8080/"
        },
        "id": "-NwFPU5EzE3Z",
        "outputId": "26a17bb5-cc30-4745-c44a-8143c9a9ddfd",
        "execution": {
          "iopub.status.busy": "2024-03-26T10:48:32.881087Z",
          "iopub.execute_input": "2024-03-26T10:48:32.881708Z",
          "iopub.status.idle": "2024-03-26T10:48:32.889062Z",
          "shell.execute_reply.started": "2024-03-26T10:48:32.881675Z",
          "shell.execute_reply": "2024-03-26T10:48:32.888075Z"
        },
        "editable": false,
        "trusted": true
      },
      "execution_count": null,
      "outputs": [
        {
          "name": "stdout",
          "text": "Folder /kaggle/working/train/labels/Tomato two spotted spider mites leaf deleted successfully.\nFolder /kaggle/working/train/labels/Potato leaf deleted successfully.\n",
          "output_type": "stream"
        }
      ]
    },
    {
      "cell_type": "code",
      "source": [],
      "metadata": {
        "id": "8FZDGFnYzE6M",
        "editable": false
      },
      "execution_count": null,
      "outputs": []
    },
    {
      "cell_type": "code",
      "source": [],
      "metadata": {
        "id": "XahHuVKczE87",
        "editable": false
      },
      "execution_count": null,
      "outputs": []
    },
    {
      "cell_type": "code",
      "source": [],
      "metadata": {
        "id": "sj9ffA0RzE_o",
        "editable": false
      },
      "execution_count": null,
      "outputs": []
    },
    {
      "cell_type": "code",
      "source": [],
      "metadata": {
        "id": "Z71RJEMkzFCk",
        "editable": false
      },
      "execution_count": null,
      "outputs": []
    },
    {
      "cell_type": "code",
      "source": [],
      "metadata": {
        "id": "Wvj8H7X_zFFb",
        "editable": false
      },
      "execution_count": null,
      "outputs": []
    },
    {
      "cell_type": "code",
      "source": [
        "!nvidia-smi"
      ],
      "metadata": {
        "colab": {
          "base_uri": "https://localhost:8080/"
        },
        "id": "YuC44iSpYl-4",
        "outputId": "bd2bbe0c-543b-4860-c653-d314f203963a",
        "execution": {
          "iopub.status.busy": "2024-03-26T10:49:59.503948Z",
          "iopub.execute_input": "2024-03-26T10:49:59.504332Z",
          "iopub.status.idle": "2024-03-26T10:50:00.575175Z",
          "shell.execute_reply.started": "2024-03-26T10:49:59.504283Z",
          "shell.execute_reply": "2024-03-26T10:50:00.574214Z"
        },
        "editable": false,
        "trusted": true
      },
      "execution_count": null,
      "outputs": [
        {
          "name": "stdout",
          "text": "Tue Mar 26 10:50:00 2024       \n+---------------------------------------------------------------------------------------+\n| NVIDIA-SMI 535.129.03             Driver Version: 535.129.03   CUDA Version: 12.2     |\n|-----------------------------------------+----------------------+----------------------+\n| GPU  Name                 Persistence-M | Bus-Id        Disp.A | Volatile Uncorr. ECC |\n| Fan  Temp   Perf          Pwr:Usage/Cap |         Memory-Usage | GPU-Util  Compute M. |\n|                                         |                      |               MIG M. |\n|=========================================+======================+======================|\n|   0  Tesla T4                       Off | 00000000:00:04.0 Off |                    0 |\n| N/A   40C    P8               9W /  70W |      0MiB / 15360MiB |      0%      Default |\n|                                         |                      |                  N/A |\n+-----------------------------------------+----------------------+----------------------+\n|   1  Tesla T4                       Off | 00000000:00:05.0 Off |                    0 |\n| N/A   41C    P8               9W /  70W |      0MiB / 15360MiB |      0%      Default |\n|                                         |                      |                  N/A |\n+-----------------------------------------+----------------------+----------------------+\n                                                                                         \n+---------------------------------------------------------------------------------------+\n| Processes:                                                                            |\n|  GPU   GI   CI        PID   Type   Process name                            GPU Memory |\n|        ID   ID                                                             Usage      |\n|=======================================================================================|\n|  No running processes found                                                           |\n+---------------------------------------------------------------------------------------+\n",
          "output_type": "stream"
        }
      ]
    },
    {
      "cell_type": "code",
      "source": [
        "!git clone https://github.com/SkalskiP/yolov9.git\n",
        "%cd yolov9\n",
        "!pip install -r requirements.txt -q"
      ],
      "metadata": {
        "colab": {
          "base_uri": "https://localhost:8080/"
        },
        "id": "qGEAtaEtYddx",
        "outputId": "c20c62b1-1cce-4700-c467-9812dcbe461c",
        "execution": {
          "iopub.status.busy": "2024-03-26T03:28:57.366363Z",
          "iopub.execute_input": "2024-03-26T03:28:57.366774Z",
          "iopub.status.idle": "2024-03-26T03:29:12.255056Z",
          "shell.execute_reply.started": "2024-03-26T03:28:57.366718Z",
          "shell.execute_reply": "2024-03-26T03:29:12.253917Z"
        },
        "editable": false,
        "trusted": true
      },
      "execution_count": null,
      "outputs": [
        {
          "name": "stdout",
          "text": "Cloning into 'yolov9'...\nremote: Enumerating objects: 325, done.\u001b[K\nremote: Counting objects: 100% (202/202), done.\u001b[K\nremote: Compressing objects: 100% (84/84), done.\u001b[K\nremote: Total 325 (delta 152), reused 118 (delta 118), pack-reused 123\u001b[K\nReceiving objects: 100% (325/325), 2.26 MiB | 11.88 MiB/s, done.\nResolving deltas: 100% (161/161), done.\n/kaggle/working/yolov5/yolov9\n",
          "output_type": "stream"
        }
      ]
    },
    {
      "cell_type": "code",
      "source": [
        "import os\n",
        "def extract_extension(filename):\n",
        "    return os.path.splitext(filename)[0]\n",
        "extract_extension(\"pddl-highlights-fig-1-bact-spot.png\")\n",
        "# Unique extensions\n",
        "unique_extensions = df[\"class\"].apply(extract_extension).unique()\n",
        "unique_extensions"
      ],
      "metadata": {
        "id": "MUv1FYIYZEcR",
        "editable": false
      },
      "execution_count": null,
      "outputs": []
    },
    {
      "cell_type": "code",
      "source": [
        "import os\n",
        "import cv2\n",
        "\n",
        "def normalize_bbox_coordinates(image_folder, label_folder):\n",
        "    for class_index, class_name in enumerate(sorted(os.listdir(image_folder))):\n",
        "        class_image_folder = os.path.join(image_folder, class_name)\n",
        "        class_label_folder = os.path.join(label_folder, class_name)\n",
        "\n",
        "        for image_file in os.listdir(class_image_folder):\n",
        "            image_name, image_ext = os.path.splitext(image_file)\n",
        "            if image_ext.lower() not in ['.jpg', '.jpeg', '.png', '.bmp', '.gif']:\n",
        "                continue  # Skip non-image files\n",
        "\n",
        "            image_path = os.path.join(class_image_folder, image_file)\n",
        "            label_path = os.path.join(class_label_folder, image_name + '.txt')\n",
        "\n",
        "            if not os.path.exists(label_path):\n",
        "                continue  # Skip if label file doesn't exist\n",
        "\n",
        "            # Read image dimensions\n",
        "            image = cv2.imread(image_path)\n",
        "            image_height, image_width, _ = image.shape\n",
        "\n",
        "            # Read and normalize bounding box coordinates\n",
        "            with open(label_path, 'r') as label_file:\n",
        "                lines = label_file.readlines()\n",
        "            with open(label_path, 'w') as label_file:\n",
        "                for line in lines:\n",
        "                    bbox_data = line.strip().split()\n",
        "                    if len(bbox_data) < 5:\n",
        "                        continue  # Skip if data is not complete\n",
        "                    _, x_center, y_center, width, height = map(float, bbox_data)\n",
        "\n",
        "                    # Normalize bounding box coordinates\n",
        "                    x_center_normalized = x_center / image_width\n",
        "                    y_center_normalized = y_center / image_height\n",
        "                    width_normalized = width / image_width\n",
        "                    height_normalized = height / image_height\n",
        "\n",
        "                    # Write normalized coordinates back to label file with updated class index\n",
        "                    label_file.write(f\"{class_index} {x_center_normalized} {y_center_normalized} {width_normalized} {height_normalized}\\n\")\n",
        "\n",
        "# Example usage:\n",
        "image_folder = '/kaggle/working/train/images'\n",
        "label_folder = '/kaggle/working/train/labels'\n",
        "normalize_bbox_coordinates(image_folder, label_folder)\n"
      ],
      "metadata": {
        "id": "lVoZPPmnbbtR",
        "execution": {
          "iopub.status.busy": "2024-03-26T10:50:04.917331Z",
          "iopub.execute_input": "2024-03-26T10:50:04.918378Z",
          "iopub.status.idle": "2024-03-26T10:50:13.562214Z",
          "shell.execute_reply.started": "2024-03-26T10:50:04.918334Z",
          "shell.execute_reply": "2024-03-26T10:50:13.561410Z"
        },
        "editable": false,
        "trusted": true
      },
      "execution_count": null,
      "outputs": []
    },
    {
      "cell_type": "code",
      "source": [
        "import os\n",
        "import cv2\n",
        "\n",
        "def normalize_bbox_coordinates(image_folder, label_folder):\n",
        "    for class_index, class_name in enumerate(sorted(os.listdir(image_folder))):\n",
        "        class_image_folder = os.path.join(image_folder, class_name)\n",
        "        class_label_folder = os.path.join(label_folder, class_name)\n",
        "\n",
        "        for image_file in os.listdir(class_image_folder):\n",
        "            image_name, image_ext = os.path.splitext(image_file)\n",
        "            if image_ext.lower() not in ['.jpg', '.jpeg', '.png', '.bmp', '.gif']:\n",
        "                continue  # Skip non-image files\n",
        "\n",
        "            image_path = os.path.join(class_image_folder, image_file)\n",
        "            label_path = os.path.join(class_label_folder, image_name + '.txt')\n",
        "\n",
        "            if not os.path.exists(label_path):\n",
        "                continue  # Skip if label file doesn't exist\n",
        "\n",
        "            # Read image dimensions\n",
        "            image = cv2.imread(image_path)\n",
        "            image_height, image_width, _ = image.shape\n",
        "\n",
        "            # Read and normalize bounding box coordinates\n",
        "            with open(label_path, 'r') as label_file:\n",
        "                lines = label_file.readlines()\n",
        "            with open(label_path, 'w') as label_file:\n",
        "                for line in lines:\n",
        "                    bbox_data = line.strip().split()\n",
        "                    if len(bbox_data) < 5:\n",
        "                        continue  # Skip if data is not complete\n",
        "                    _, x_center, y_center, width, height = map(float, bbox_data)\n",
        "\n",
        "                    # Normalize bounding box coordinates\n",
        "                    x_center_normalized = x_center / image_width\n",
        "                    y_center_normalized = y_center / image_height\n",
        "                    width_normalized = width / image_width\n",
        "                    height_normalized = height / image_height\n",
        "\n",
        "                    # Write normalized coordinates back to label file with updated class index\n",
        "                    label_file.write(f\"{class_index} {x_center_normalized} {y_center_normalized} {width_normalized} {height_normalized}\\n\")\n",
        "\n",
        "# Example usage:\n",
        "image_folder = '/kaggle/working/test/images'\n",
        "label_folder = '/kaggle/working/test/labels'\n",
        "normalize_bbox_coordinates(image_folder, label_folder)\n"
      ],
      "metadata": {
        "id": "RGnRrgwbexwT",
        "execution": {
          "iopub.status.busy": "2024-03-26T10:50:13.563881Z",
          "iopub.execute_input": "2024-03-26T10:50:13.564160Z",
          "iopub.status.idle": "2024-03-26T10:50:14.698679Z",
          "shell.execute_reply.started": "2024-03-26T10:50:13.564135Z",
          "shell.execute_reply": "2024-03-26T10:50:14.697840Z"
        },
        "editable": false,
        "trusted": true
      },
      "execution_count": null,
      "outputs": []
    },
    {
      "cell_type": "code",
      "source": [
        "## importing required libraries\n",
        "import os\n",
        "import shutil\n",
        "import random\n",
        "\n",
        "!pip install tqdm --upgrade\n",
        "from tqdm.notebook import tqdm"
      ],
      "metadata": {
        "colab": {
          "base_uri": "https://localhost:8080/"
        },
        "id": "pGXMr1cDYinx",
        "outputId": "3d682fd5-a5ad-496a-9c88-a42d6ec32696",
        "execution": {
          "iopub.status.busy": "2024-03-26T03:40:16.940107Z",
          "iopub.execute_input": "2024-03-26T03:40:16.940728Z",
          "iopub.status.idle": "2024-03-26T03:40:29.179130Z",
          "shell.execute_reply.started": "2024-03-26T03:40:16.940684Z",
          "shell.execute_reply": "2024-03-26T03:40:29.178032Z"
        },
        "editable": false,
        "trusted": true
      },
      "execution_count": null,
      "outputs": [
        {
          "name": "stdout",
          "text": "Requirement already satisfied: tqdm in /opt/conda/lib/python3.10/site-packages (4.66.2)\n",
          "output_type": "stream"
        }
      ]
    },
    {
      "cell_type": "code",
      "source": [
        "cd /content/yolov9"
      ],
      "metadata": {
        "id": "oVoxwOcMYpHR",
        "editable": false
      },
      "execution_count": null,
      "outputs": []
    },
    {
      "cell_type": "code",
      "source": [
        "# train yolov9 models\n",
        "!python train_dual.py --workers 8 --device 0 --batch 8 --data \"/kaggle/input/sdsdsd/leaf.yaml\" --img 640 --cfg \"/kaggle/input/vfbgdfbfgb/yolov9-c.yaml\" --weights '' --name yolov9-c --hyp hyp.scratch-high.yaml --min-items 0 --epochs 2 --close-mosaic 15\n",
        "\n",
        "# python train.py --workers 8 --device 0 --batch 32 --data data/coco.yaml --img 640 --cfg models/detect/gelan-c.yaml --weights '' --name gelan-c --hyp hyp.scratch-high.yaml --min-items 0 --epochs 500 --close-mosaic 15"
      ],
      "metadata": {
        "colab": {
          "base_uri": "https://localhost:8080/"
        },
        "id": "mUFjFbSBYtLt",
        "outputId": "c871ac31-b734-4edb-99c1-bea5c2895176",
        "execution": {
          "iopub.status.busy": "2024-03-26T03:46:46.589553Z",
          "iopub.execute_input": "2024-03-26T03:46:46.590650Z",
          "iopub.status.idle": "2024-03-26T03:49:32.738977Z",
          "shell.execute_reply.started": "2024-03-26T03:46:46.590610Z",
          "shell.execute_reply": "2024-03-26T03:49:32.737923Z"
        },
        "editable": false,
        "trusted": true
      },
      "execution_count": null,
      "outputs": [
        {
          "name": "stdout",
          "text": "2024-03-26 03:46:53.504741: E external/local_xla/xla/stream_executor/cuda/cuda_dnn.cc:9261] Unable to register cuDNN factory: Attempting to register factory for plugin cuDNN when one has already been registered\n2024-03-26 03:46:53.504806: E external/local_xla/xla/stream_executor/cuda/cuda_fft.cc:607] Unable to register cuFFT factory: Attempting to register factory for plugin cuFFT when one has already been registered\n2024-03-26 03:46:53.506362: E external/local_xla/xla/stream_executor/cuda/cuda_blas.cc:1515] Unable to register cuBLAS factory: Attempting to register factory for plugin cuBLAS when one has already been registered\n\u001b[34m\u001b[1mwandb\u001b[0m: (1) Create a W&B account\n\u001b[34m\u001b[1mwandb\u001b[0m: (2) Use an existing W&B account\n\u001b[34m\u001b[1mwandb\u001b[0m: (3) Don't visualize my results\n\u001b[34m\u001b[1mwandb\u001b[0m: Enter your choice: (30 second timeout) \n\u001b[34m\u001b[1mwandb\u001b[0m: W&B disabled due to login timeout.\n\u001b[34m\u001b[1mtrain_dual: \u001b[0mweights=, cfg=/kaggle/input/vfbgdfbfgb/yolov9-c.yaml, data=/kaggle/input/sdsdsd/leaf.yaml, hyp=hyp.scratch-high.yaml, epochs=2, batch_size=8, imgsz=640, rect=False, resume=False, nosave=False, noval=False, noautoanchor=False, noplots=False, evolve=None, bucket=, cache=None, image_weights=False, device=0, multi_scale=False, single_cls=False, optimizer=SGD, sync_bn=False, workers=8, project=runs/train, name=yolov9-c, exist_ok=False, quad=False, cos_lr=False, flat_cos_lr=False, fixed_lr=False, label_smoothing=0.0, patience=100, freeze=[0], save_period=-1, seed=0, local_rank=-1, min_items=0, close_mosaic=15, entity=None, upload_dataset=False, bbox_interval=-1, artifact_alias=latest\nYOLOv5 🚀 1e33dbb Python-3.10.13 torch-2.1.2 CUDA:0 (Tesla T4, 15102MiB)\n\n\u001b[34m\u001b[1mhyperparameters: \u001b[0mlr0=0.01, lrf=0.01, momentum=0.937, weight_decay=0.0005, warmup_epochs=3.0, warmup_momentum=0.8, warmup_bias_lr=0.1, box=7.5, cls=0.5, cls_pw=1.0, dfl=1.5, obj_pw=1.0, iou_t=0.2, anchor_t=5.0, fl_gamma=0.0, hsv_h=0.015, hsv_s=0.7, hsv_v=0.4, degrees=0.0, translate=0.1, scale=0.9, shear=0.0, perspective=0.0, flipud=0.0, fliplr=0.5, mosaic=1.0, mixup=0.15, copy_paste=0.3\n\u001b[34m\u001b[1mClearML: \u001b[0mrun 'pip install clearml' to automatically track, visualize and remotely train YOLO 🚀 in ClearML\n\u001b[34m\u001b[1mComet: \u001b[0mrun 'pip install comet_ml' to automatically track and visualize YOLO 🚀 runs in Comet\n\u001b[34m\u001b[1mTensorBoard: \u001b[0mStart with 'tensorboard --logdir runs/train', view at http://localhost:6006/\nOverriding model.yaml nc=5 with nc=27\n\n                 from  n    params  module                                  arguments                     \n  0                -1  1         0  models.common.Silence                   []                            \n  1                -1  1      1856  models.common.Conv                      [3, 64, 3, 2]                 \n  2                -1  1     73984  models.common.Conv                      [64, 128, 3, 2]               \n  3                -1  1    212864  models.common.RepNCSPELAN4              [128, 256, 128, 64, 1]        \n  4                -1  1    164352  models.common.ADown                     [256, 256]                    \n  5                -1  1    847616  models.common.RepNCSPELAN4              [256, 512, 256, 128, 1]       \n  6                -1  1    656384  models.common.ADown                     [512, 512]                    \n  7                -1  1   2857472  models.common.RepNCSPELAN4              [512, 512, 512, 256, 1]       \n  8                -1  1    656384  models.common.ADown                     [512, 512]                    \n  9                -1  1   2857472  models.common.RepNCSPELAN4              [512, 512, 512, 256, 1]       \n 10                -1  1    656896  models.common.SPPELAN                   [512, 512, 256]               \n 11                -1  1         0  torch.nn.modules.upsampling.Upsample    [None, 2, 'nearest']          \n 12           [-1, 7]  1         0  models.common.Concat                    [1]                           \n 13                -1  1   3119616  models.common.RepNCSPELAN4              [1024, 512, 512, 256, 1]      \n 14                -1  1         0  torch.nn.modules.upsampling.Upsample    [None, 2, 'nearest']          \n 15           [-1, 5]  1         0  models.common.Concat                    [1]                           \n 16                -1  1    912640  models.common.RepNCSPELAN4              [1024, 256, 256, 128, 1]      \n 17                -1  1    164352  models.common.ADown                     [256, 256]                    \n 18          [-1, 13]  1         0  models.common.Concat                    [1]                           \n 19                -1  1   2988544  models.common.RepNCSPELAN4              [768, 512, 512, 256, 1]       \n 20                -1  1    656384  models.common.ADown                     [512, 512]                    \n 21          [-1, 10]  1         0  models.common.Concat                    [1]                           \n 22                -1  1   3119616  models.common.RepNCSPELAN4              [1024, 512, 512, 256, 1]      \n 23                 5  1    131328  models.common.CBLinear                  [512, [256]]                  \n 24                 7  1    393984  models.common.CBLinear                  [512, [256, 512]]             \n 25                 9  1    656640  models.common.CBLinear                  [512, [256, 512, 512]]        \n 26                 0  1      1856  models.common.Conv                      [3, 64, 3, 2]                 \n 27                -1  1     73984  models.common.Conv                      [64, 128, 3, 2]               \n 28                -1  1    212864  models.common.RepNCSPELAN4              [128, 256, 128, 64, 1]        \n 29                -1  1    164352  models.common.ADown                     [256, 256]                    \n 30  [23, 24, 25, -1]  1         0  models.common.CBFuse                    [[0, 0, 0]]                   \n 31                -1  1    847616  models.common.RepNCSPELAN4              [256, 512, 256, 128, 1]       \n 32                -1  1    656384  models.common.ADown                     [512, 512]                    \n 33      [24, 25, -1]  1         0  models.common.CBFuse                    [[1, 1]]                      \n 34                -1  1   2857472  models.common.RepNCSPELAN4              [512, 512, 512, 256, 1]       \n 35                -1  1    656384  models.common.ADown                     [512, 512]                    \n 36          [25, -1]  1         0  models.common.CBFuse                    [[2]]                         \n 37                -1  1   2857472  models.common.RepNCSPELAN4              [512, 512, 512, 256, 1]       \n 38[31, 34, 37, 16, 19, 22]  1  21602882  models.yolo.DualDDetect                 [27, [512, 512, 512, 256, 512, 512]]\nyolov9-c summary: 962 layers, 51059650 parameters, 51059618 gradients, 239.2 GFLOPs\n\n\u001b[34m\u001b[1mAMP: \u001b[0mchecks passed ✅\n\u001b[34m\u001b[1moptimizer:\u001b[0m SGD(lr=0.01) with parameter groups 238 weight(decay=0.0), 255 weight(decay=0.0005), 253 bias\n\u001b[34m\u001b[1malbumentations: \u001b[0mBlur(p=0.01, blur_limit=(3, 7)), MedianBlur(p=0.01, blur_limit=(3, 7)), ToGray(p=0.01), CLAHE(p=0.01, clip_limit=(1, 4.0), tile_grid_size=(8, 8))\n\u001b[34m\u001b[1mtrain: \u001b[0mScanning /kaggle/working/train/labels/Soyabean leaf.cache... 395 images, \u001b[0m\n\u001b[34m\u001b[1mtrain: \u001b[0mWARNING ⚠️ /kaggle/working/train/images/Strawberry leaf/0008003-strawberry-leaf-veiner-large.jpg: corrupt JPEG restored and saved\n\u001b[34m\u001b[1mtrain: \u001b[0mWARNING ⚠️ /kaggle/working/train/images/Strawberry leaf/strawberryleaves-notpi.jpg: corrupt JPEG restored and saved\n\u001b[34m\u001b[1mtrain: \u001b[0mWARNING ⚠️ /kaggle/working/train/images/Tomato Early blight leaf/Early-blight.jpg: ignoring corrupt image/label: non-normalized or out of bounds coordinates [     1.4428      1.0702]\n\u001b[34m\u001b[1mtrain: \u001b[0mWARNING ⚠️ /kaggle/working/train/images/Tomato Early blight leaf/early-blight-in-high-tunnel-tomatoes-19tm74h.jpg: ignoring corrupt image/label: non-normalized or out of bounds coordinates [     1.0842]\n\u001b[34m\u001b[1mval: \u001b[0mScanning /kaggle/working/test/labels/Soyabean leaf.cache... 41 images, 0 ba\u001b[0m\n\u001b[34m\u001b[1mval: \u001b[0mWARNING ⚠️ /kaggle/working/test/images/Tomato Early blight leaf/Shoemaker_7068.JPG.jpg: ignoring corrupt image/label: non-normalized or out of bounds coordinates [     1.2533]\nPlotting labels to runs/train/yolov9-c4/labels.jpg... \n/opt/conda/lib/python3.10/site-packages/seaborn/_oldcore.py:1119: FutureWarning: use_inf_as_na option is deprecated and will be removed in a future version. Convert inf values to NaN before operating instead.\n  with pd.option_context('mode.use_inf_as_na', True):\n/opt/conda/lib/python3.10/site-packages/seaborn/_oldcore.py:1119: FutureWarning: use_inf_as_na option is deprecated and will be removed in a future version. Convert inf values to NaN before operating instead.\n  with pd.option_context('mode.use_inf_as_na', True):\n/opt/conda/lib/python3.10/site-packages/seaborn/_oldcore.py:1119: FutureWarning: use_inf_as_na option is deprecated and will be removed in a future version. Convert inf values to NaN before operating instead.\n  with pd.option_context('mode.use_inf_as_na', True):\n/opt/conda/lib/python3.10/site-packages/seaborn/_oldcore.py:1119: FutureWarning: use_inf_as_na option is deprecated and will be removed in a future version. Convert inf values to NaN before operating instead.\n  with pd.option_context('mode.use_inf_as_na', True):\n/opt/conda/lib/python3.10/site-packages/seaborn/_oldcore.py:1119: FutureWarning: use_inf_as_na option is deprecated and will be removed in a future version. Convert inf values to NaN before operating instead.\n  with pd.option_context('mode.use_inf_as_na', True):\n/opt/conda/lib/python3.10/site-packages/seaborn/_oldcore.py:1119: FutureWarning: use_inf_as_na option is deprecated and will be removed in a future version. Convert inf values to NaN before operating instead.\n  with pd.option_context('mode.use_inf_as_na', True):\n/opt/conda/lib/python3.10/site-packages/seaborn/_oldcore.py:1119: FutureWarning: use_inf_as_na option is deprecated and will be removed in a future version. Convert inf values to NaN before operating instead.\n  with pd.option_context('mode.use_inf_as_na', True):\n/opt/conda/lib/python3.10/site-packages/seaborn/_oldcore.py:1119: FutureWarning: use_inf_as_na option is deprecated and will be removed in a future version. Convert inf values to NaN before operating instead.\n  with pd.option_context('mode.use_inf_as_na', True):\n/opt/conda/lib/python3.10/site-packages/seaborn/_oldcore.py:1119: FutureWarning: use_inf_as_na option is deprecated and will be removed in a future version. Convert inf values to NaN before operating instead.\n  with pd.option_context('mode.use_inf_as_na', True):\n/opt/conda/lib/python3.10/site-packages/seaborn/_oldcore.py:1119: FutureWarning: use_inf_as_na option is deprecated and will be removed in a future version. Convert inf values to NaN before operating instead.\n  with pd.option_context('mode.use_inf_as_na', True):\n/opt/conda/lib/python3.10/site-packages/seaborn/_oldcore.py:1119: FutureWarning: use_inf_as_na option is deprecated and will be removed in a future version. Convert inf values to NaN before operating instead.\n  with pd.option_context('mode.use_inf_as_na', True):\n/opt/conda/lib/python3.10/site-packages/seaborn/_oldcore.py:1119: FutureWarning: use_inf_as_na option is deprecated and will be removed in a future version. Convert inf values to NaN before operating instead.\n  with pd.option_context('mode.use_inf_as_na', True):\n/opt/conda/lib/python3.10/site-packages/seaborn/_oldcore.py:1119: FutureWarning: use_inf_as_na option is deprecated and will be removed in a future version. Convert inf values to NaN before operating instead.\n  with pd.option_context('mode.use_inf_as_na', True):\n/opt/conda/lib/python3.10/site-packages/seaborn/_oldcore.py:1119: FutureWarning: use_inf_as_na option is deprecated and will be removed in a future version. Convert inf values to NaN before operating instead.\n  with pd.option_context('mode.use_inf_as_na', True):\n/opt/conda/lib/python3.10/site-packages/seaborn/_oldcore.py:1119: FutureWarning: use_inf_as_na option is deprecated and will be removed in a future version. Convert inf values to NaN before operating instead.\n  with pd.option_context('mode.use_inf_as_na', True):\n/opt/conda/lib/python3.10/site-packages/seaborn/_oldcore.py:1119: FutureWarning: use_inf_as_na option is deprecated and will be removed in a future version. Convert inf values to NaN before operating instead.\n  with pd.option_context('mode.use_inf_as_na', True):\n/opt/conda/lib/python3.10/site-packages/seaborn/_oldcore.py:1119: FutureWarning: use_inf_as_na option is deprecated and will be removed in a future version. Convert inf values to NaN before operating instead.\n  with pd.option_context('mode.use_inf_as_na', True):\n/opt/conda/lib/python3.10/site-packages/seaborn/_oldcore.py:1119: FutureWarning: use_inf_as_na option is deprecated and will be removed in a future version. Convert inf values to NaN before operating instead.\n  with pd.option_context('mode.use_inf_as_na', True):\n/opt/conda/lib/python3.10/site-packages/seaborn/_oldcore.py:1119: FutureWarning: use_inf_as_na option is deprecated and will be removed in a future version. Convert inf values to NaN before operating instead.\n  with pd.option_context('mode.use_inf_as_na', True):\n/opt/conda/lib/python3.10/site-packages/seaborn/_oldcore.py:1119: FutureWarning: use_inf_as_na option is deprecated and will be removed in a future version. Convert inf values to NaN before operating instead.\n  with pd.option_context('mode.use_inf_as_na', True):\nImage sizes 640 train, 640 val\nUsing 4 dataloader workers\nLogging results to \u001b[1mruns/train/yolov9-c4\u001b[0m\nStarting training for 2 epochs...\n\n      Epoch    GPU_mem   box_loss   cls_loss   dfl_loss  Instances       Size\n        0/1      9.52G      4.074      5.767      5.302        129        640:  WARNING ⚠️ TensorBoard graph visualization failure Only tensors, lists, tuples of tensors, or dictionary of tensors can be output from traced functions\n        0/1        11G      3.993      6.053      5.366          2        640: 1\n                 Class     Images  Instances          P          R      mAP50   \n                   all         40        124          0          0          0          0\n\n      Epoch    GPU_mem   box_loss   cls_loss   dfl_loss  Instances       Size\n        1/1      11.2G       3.95      5.996      5.327          5        640: 1\n                 Class     Images  Instances          P          R      mAP50   \n                   all         40        124          0          0          0          0\n\n2 epochs completed in 0.028 hours.\nOptimizer stripped from runs/train/yolov9-c4/weights/last.pt, 102.9MB\nOptimizer stripped from runs/train/yolov9-c4/weights/best.pt, 102.9MB\n\nValidating runs/train/yolov9-c4/weights/best.pt...\nFusing layers... \nyolov9-c summary: 724 layers, 51018690 parameters, 0 gradients, 238.0 GFLOPs\n                 Class     Images  Instances          P          R      mAP50   \n                   all         40        124          0          0          0          0\nResults saved to \u001b[1mruns/train/yolov9-c4\u001b[0m\n",
          "output_type": "stream"
        }
      ]
    },
    {
      "cell_type": "code",
      "source": [
        "!zip -r model.zip /content/yolov9/runs/train/yolov9-c4"
      ],
      "metadata": {
        "id": "fW0ys__ngc6q",
        "editable": false
      },
      "execution_count": null,
      "outputs": []
    },
    {
      "cell_type": "code",
      "source": [
        "!python detect.py --source '/content/test/images/Cherry leaf/fc729af279e9087d00bd32d89a1552a756a3ad9de7f2b_1260x1260.jpg' --img 640 --device 0 --weights '/content/yolov9/runs/train/yolov9-c7/weights/best.pt' --name yolov9_c_c_640_detect\n"
      ],
      "metadata": {
        "id": "qQZfM84xdSIW",
        "editable": false
      },
      "execution_count": null,
      "outputs": []
    },
    {
      "cell_type": "code",
      "source": [
        "import matplotlib.pyplot as plt\n",
        "from PIL import Image\n",
        "image=Image.open(\"/content/yolov9/runs/detect/yolov9_c_c_640_detect6/fc729af279e9087d00bd32d89a1552a756a3ad9de7f2b_1260x1260.jpg\")\n",
        "plt.imshow(image)\n",
        "plt.axis(\"off\")"
      ],
      "metadata": {
        "id": "zoamCRSxl9Pr",
        "editable": false
      },
      "execution_count": null,
      "outputs": []
    },
    {
      "cell_type": "code",
      "source": [
        "cd /content/"
      ],
      "metadata": {
        "id": "ASquHsw4mdSJ",
        "editable": false
      },
      "execution_count": null,
      "outputs": []
    },
    {
      "cell_type": "code",
      "source": [
        "ls"
      ],
      "metadata": {
        "id": "4P5CQIx89QUq",
        "editable": false
      },
      "execution_count": null,
      "outputs": []
    },
    {
      "cell_type": "code",
      "source": [
        "!git clone https://github.com/ultralytics/yolov5  # clone\n",
        "%cd yolov5\n",
        "!pip install -r requirements.txt  # install"
      ],
      "metadata": {
        "colab": {
          "base_uri": "https://localhost:8080/"
        },
        "id": "xVVGNKuR9RCZ",
        "outputId": "29441188-f67c-4649-ab19-05f3148b413a",
        "execution": {
          "iopub.status.busy": "2024-03-26T10:51:41.880973Z",
          "iopub.execute_input": "2024-03-26T10:51:41.881377Z",
          "iopub.status.idle": "2024-03-26T10:51:55.364701Z",
          "shell.execute_reply.started": "2024-03-26T10:51:41.881340Z",
          "shell.execute_reply": "2024-03-26T10:51:55.363724Z"
        },
        "editable": false,
        "trusted": true
      },
      "execution_count": null,
      "outputs": [
        {
          "name": "stdout",
          "text": "fatal: destination path 'yolov5' already exists and is not an empty directory.\n/kaggle/working/yolov5\nRequirement already satisfied: gitpython>=3.1.30 in /opt/conda/lib/python3.10/site-packages (from -r requirements.txt (line 5)) (3.1.41)\nRequirement already satisfied: matplotlib>=3.3 in /opt/conda/lib/python3.10/site-packages (from -r requirements.txt (line 6)) (3.7.5)\nRequirement already satisfied: numpy>=1.23.5 in /opt/conda/lib/python3.10/site-packages (from -r requirements.txt (line 7)) (1.26.4)\nRequirement already satisfied: opencv-python>=4.1.1 in /opt/conda/lib/python3.10/site-packages (from -r requirements.txt (line 8)) (4.9.0.80)\nRequirement already satisfied: Pillow>=9.4.0 in /opt/conda/lib/python3.10/site-packages (from -r requirements.txt (line 9)) (9.5.0)\nRequirement already satisfied: psutil in /opt/conda/lib/python3.10/site-packages (from -r requirements.txt (line 10)) (5.9.3)\nRequirement already satisfied: PyYAML>=5.3.1 in /opt/conda/lib/python3.10/site-packages (from -r requirements.txt (line 11)) (6.0.1)\nRequirement already satisfied: requests>=2.23.0 in /opt/conda/lib/python3.10/site-packages (from -r requirements.txt (line 12)) (2.31.0)\nRequirement already satisfied: scipy>=1.4.1 in /opt/conda/lib/python3.10/site-packages (from -r requirements.txt (line 13)) (1.11.4)\nRequirement already satisfied: thop>=0.1.1 in /opt/conda/lib/python3.10/site-packages (from -r requirements.txt (line 14)) (0.1.1.post2209072238)\nRequirement already satisfied: torch>=1.8.0 in /opt/conda/lib/python3.10/site-packages (from -r requirements.txt (line 15)) (2.1.2)\nRequirement already satisfied: torchvision>=0.9.0 in /opt/conda/lib/python3.10/site-packages (from -r requirements.txt (line 16)) (0.16.2)\nRequirement already satisfied: tqdm>=4.64.0 in /opt/conda/lib/python3.10/site-packages (from -r requirements.txt (line 17)) (4.66.2)\nRequirement already satisfied: ultralytics>=8.0.232 in /opt/conda/lib/python3.10/site-packages (from -r requirements.txt (line 18)) (8.1.34)\nRequirement already satisfied: pandas>=1.1.4 in /opt/conda/lib/python3.10/site-packages (from -r requirements.txt (line 27)) (2.1.4)\nRequirement already satisfied: seaborn>=0.11.0 in /opt/conda/lib/python3.10/site-packages (from -r requirements.txt (line 28)) (0.12.2)\nRequirement already satisfied: setuptools>=65.5.1 in /opt/conda/lib/python3.10/site-packages (from -r requirements.txt (line 42)) (69.0.3)\nRequirement already satisfied: wheel>=0.38.0 in /opt/conda/lib/python3.10/site-packages (from -r requirements.txt (line 50)) (0.42.0)\nRequirement already satisfied: gitdb<5,>=4.0.1 in /opt/conda/lib/python3.10/site-packages (from gitpython>=3.1.30->-r requirements.txt (line 5)) (4.0.11)\nRequirement already satisfied: contourpy>=1.0.1 in /opt/conda/lib/python3.10/site-packages (from matplotlib>=3.3->-r requirements.txt (line 6)) (1.2.0)\nRequirement already satisfied: cycler>=0.10 in /opt/conda/lib/python3.10/site-packages (from matplotlib>=3.3->-r requirements.txt (line 6)) (0.12.1)\nRequirement already satisfied: fonttools>=4.22.0 in /opt/conda/lib/python3.10/site-packages (from matplotlib>=3.3->-r requirements.txt (line 6)) (4.47.0)\nRequirement already satisfied: kiwisolver>=1.0.1 in /opt/conda/lib/python3.10/site-packages (from matplotlib>=3.3->-r requirements.txt (line 6)) (1.4.5)\nRequirement already satisfied: packaging>=20.0 in /opt/conda/lib/python3.10/site-packages (from matplotlib>=3.3->-r requirements.txt (line 6)) (21.3)\nRequirement already satisfied: pyparsing>=2.3.1 in /opt/conda/lib/python3.10/site-packages (from matplotlib>=3.3->-r requirements.txt (line 6)) (3.1.1)\nRequirement already satisfied: python-dateutil>=2.7 in /opt/conda/lib/python3.10/site-packages (from matplotlib>=3.3->-r requirements.txt (line 6)) (2.9.0.post0)\nRequirement already satisfied: charset-normalizer<4,>=2 in /opt/conda/lib/python3.10/site-packages (from requests>=2.23.0->-r requirements.txt (line 12)) (3.3.2)\nRequirement already satisfied: idna<4,>=2.5 in /opt/conda/lib/python3.10/site-packages (from requests>=2.23.0->-r requirements.txt (line 12)) (3.6)\nRequirement already satisfied: urllib3<3,>=1.21.1 in /opt/conda/lib/python3.10/site-packages (from requests>=2.23.0->-r requirements.txt (line 12)) (1.26.18)\nRequirement already satisfied: certifi>=2017.4.17 in /opt/conda/lib/python3.10/site-packages (from requests>=2.23.0->-r requirements.txt (line 12)) (2024.2.2)\nRequirement already satisfied: filelock in /opt/conda/lib/python3.10/site-packages (from torch>=1.8.0->-r requirements.txt (line 15)) (3.13.1)\nRequirement already satisfied: typing-extensions in /opt/conda/lib/python3.10/site-packages (from torch>=1.8.0->-r requirements.txt (line 15)) (4.9.0)\nRequirement already satisfied: sympy in /opt/conda/lib/python3.10/site-packages (from torch>=1.8.0->-r requirements.txt (line 15)) (1.12)\nRequirement already satisfied: networkx in /opt/conda/lib/python3.10/site-packages (from torch>=1.8.0->-r requirements.txt (line 15)) (3.2.1)\nRequirement already satisfied: jinja2 in /opt/conda/lib/python3.10/site-packages (from torch>=1.8.0->-r requirements.txt (line 15)) (3.1.2)\nRequirement already satisfied: fsspec in /opt/conda/lib/python3.10/site-packages (from torch>=1.8.0->-r requirements.txt (line 15)) (2024.3.0)\nRequirement already satisfied: py-cpuinfo in /opt/conda/lib/python3.10/site-packages (from ultralytics>=8.0.232->-r requirements.txt (line 18)) (9.0.0)\nRequirement already satisfied: pytz>=2020.1 in /opt/conda/lib/python3.10/site-packages (from pandas>=1.1.4->-r requirements.txt (line 27)) (2023.3.post1)\nRequirement already satisfied: tzdata>=2022.1 in /opt/conda/lib/python3.10/site-packages (from pandas>=1.1.4->-r requirements.txt (line 27)) (2023.4)\nRequirement already satisfied: smmap<6,>=3.0.1 in /opt/conda/lib/python3.10/site-packages (from gitdb<5,>=4.0.1->gitpython>=3.1.30->-r requirements.txt (line 5)) (5.0.1)\nRequirement already satisfied: six>=1.5 in /opt/conda/lib/python3.10/site-packages (from python-dateutil>=2.7->matplotlib>=3.3->-r requirements.txt (line 6)) (1.16.0)\nRequirement already satisfied: MarkupSafe>=2.0 in /opt/conda/lib/python3.10/site-packages (from jinja2->torch>=1.8.0->-r requirements.txt (line 15)) (2.1.3)\nRequirement already satisfied: mpmath>=0.19 in /opt/conda/lib/python3.10/site-packages (from sympy->torch>=1.8.0->-r requirements.txt (line 15)) (1.3.0)\n",
          "output_type": "stream"
        }
      ]
    },
    {
      "cell_type": "code",
      "source": [
        "import torch\n",
        "import utils\n",
        "\n"
      ],
      "metadata": {
        "id": "zHlgjR5l9V4J",
        "execution": {
          "iopub.status.busy": "2024-03-26T09:40:29.206606Z",
          "iopub.execute_input": "2024-03-26T09:40:29.206988Z",
          "iopub.status.idle": "2024-03-26T09:40:33.653250Z",
          "shell.execute_reply.started": "2024-03-26T09:40:29.206950Z",
          "shell.execute_reply": "2024-03-26T09:40:33.652408Z"
        },
        "editable": false,
        "trusted": true
      },
      "execution_count": null,
      "outputs": []
    },
    {
      "cell_type": "code",
      "source": [
        "!python train.py --img 640 --batch 8 --epochs 200 --data \"/kaggle/input/ommmmmm/leaf.yaml\" --weights yolov5s.pt"
      ],
      "metadata": {
        "execution": {
          "iopub.status.busy": "2024-03-26T11:53:44.365586Z",
          "iopub.execute_input": "2024-03-26T11:53:44.365989Z"
        },
        "editable": false,
        "trusted": true,
        "id": "0frLE2BST1oH",
        "outputId": "d429f0bd-3c02-4af7-e445-7f3f7703495e"
      },
      "execution_count": null,
      "outputs": [
        {
          "name": "stdout",
          "text": "\u001b[34m\u001b[1mwandb\u001b[0m: WARNING ⚠️ wandb is deprecated and will be removed in a future release. See supported integrations at https://github.com/ultralytics/yolov5#integrations.\n2024-03-26 11:53:52.518994: E external/local_xla/xla/stream_executor/cuda/cuda_dnn.cc:9261] Unable to register cuDNN factory: Attempting to register factory for plugin cuDNN when one has already been registered\n2024-03-26 11:53:52.519050: E external/local_xla/xla/stream_executor/cuda/cuda_fft.cc:607] Unable to register cuFFT factory: Attempting to register factory for plugin cuFFT when one has already been registered\n2024-03-26 11:53:52.520654: E external/local_xla/xla/stream_executor/cuda/cuda_blas.cc:1515] Unable to register cuBLAS factory: Attempting to register factory for plugin cuBLAS when one has already been registered\n\u001b[34m\u001b[1mwandb\u001b[0m: (1) Create a W&B account\n\u001b[34m\u001b[1mwandb\u001b[0m: (2) Use an existing W&B account\n\u001b[34m\u001b[1mwandb\u001b[0m: (3) Don't visualize my results\n\u001b[34m\u001b[1mwandb\u001b[0m: Enter your choice: (30 second timeout) \n\u001b[34m\u001b[1mwandb\u001b[0m: W&B disabled due to login timeout.\n\u001b[34m\u001b[1mtrain: \u001b[0mweights=yolov5s.pt, cfg=, data=/kaggle/input/ommmmmm/leaf.yaml, hyp=data/hyps/hyp.scratch-low.yaml, epochs=200, batch_size=8, imgsz=640, rect=False, resume=False, nosave=False, noval=False, noautoanchor=False, noplots=False, evolve=None, evolve_population=data/hyps, resume_evolve=None, bucket=, cache=None, image_weights=False, device=, multi_scale=False, single_cls=False, optimizer=SGD, sync_bn=False, workers=8, project=runs/train, name=exp, exist_ok=False, quad=False, cos_lr=False, label_smoothing=0.0, patience=100, freeze=[0], save_period=-1, seed=0, local_rank=-1, entity=None, upload_dataset=False, bbox_interval=-1, artifact_alias=latest, ndjson_console=False, ndjson_file=False\n\u001b[34m\u001b[1mgithub: \u001b[0mup to date with https://github.com/ultralytics/yolov5 ✅\nYOLOv5 🚀 v7.0-295-gac6c4383 Python-3.10.13 torch-2.1.2 CUDA:0 (Tesla T4, 15102MiB)\n\n\u001b[34m\u001b[1mhyperparameters: \u001b[0mlr0=0.01, lrf=0.01, momentum=0.937, weight_decay=0.0005, warmup_epochs=3.0, warmup_momentum=0.8, warmup_bias_lr=0.1, box=0.05, cls=0.5, cls_pw=1.0, obj=1.0, obj_pw=1.0, iou_t=0.2, anchor_t=4.0, fl_gamma=0.0, hsv_h=0.015, hsv_s=0.7, hsv_v=0.4, degrees=0.0, translate=0.1, scale=0.5, shear=0.0, perspective=0.0, flipud=0.0, fliplr=0.5, mosaic=1.0, mixup=0.0, copy_paste=0.0\n\u001b[34m\u001b[1mComet: \u001b[0mrun 'pip install comet_ml' to automatically track and visualize YOLOv5 🚀 runs in Comet\n\u001b[34m\u001b[1mTensorBoard: \u001b[0mStart with 'tensorboard --logdir runs/train', view at http://localhost:6006/\nOverriding model.yaml nc=80 with nc=5\n\n                 from  n    params  module                                  arguments                     \n  0                -1  1      3520  models.common.Conv                      [3, 32, 6, 2, 2]              \n  1                -1  1     18560  models.common.Conv                      [32, 64, 3, 2]                \n  2                -1  1     18816  models.common.C3                        [64, 64, 1]                   \n  3                -1  1     73984  models.common.Conv                      [64, 128, 3, 2]               \n  4                -1  2    115712  models.common.C3                        [128, 128, 2]                 \n  5                -1  1    295424  models.common.Conv                      [128, 256, 3, 2]              \n  6                -1  3    625152  models.common.C3                        [256, 256, 3]                 \n  7                -1  1   1180672  models.common.Conv                      [256, 512, 3, 2]              \n  8                -1  1   1182720  models.common.C3                        [512, 512, 1]                 \n  9                -1  1    656896  models.common.SPPF                      [512, 512, 5]                 \n 10                -1  1    131584  models.common.Conv                      [512, 256, 1, 1]              \n 11                -1  1         0  torch.nn.modules.upsampling.Upsample    [None, 2, 'nearest']          \n 12           [-1, 6]  1         0  models.common.Concat                    [1]                           \n 13                -1  1    361984  models.common.C3                        [512, 256, 1, False]          \n 14                -1  1     33024  models.common.Conv                      [256, 128, 1, 1]              \n 15                -1  1         0  torch.nn.modules.upsampling.Upsample    [None, 2, 'nearest']          \n 16           [-1, 4]  1         0  models.common.Concat                    [1]                           \n 17                -1  1     90880  models.common.C3                        [256, 128, 1, False]          \n 18                -1  1    147712  models.common.Conv                      [128, 128, 3, 2]              \n 19          [-1, 14]  1         0  models.common.Concat                    [1]                           \n 20                -1  1    296448  models.common.C3                        [256, 256, 1, False]          \n 21                -1  1    590336  models.common.Conv                      [256, 256, 3, 2]              \n 22          [-1, 10]  1         0  models.common.Concat                    [1]                           \n 23                -1  1   1182720  models.common.C3                        [512, 512, 1, False]          \n 24      [17, 20, 23]  1     26970  models.yolo.Detect                      [5, [[10, 13, 16, 30, 33, 23], [30, 61, 62, 45, 59, 119], [116, 90, 156, 198, 373, 326]], [128, 256, 512]]\nModel summary: 214 layers, 7033114 parameters, 7033114 gradients, 16.0 GFLOPs\n\nTransferred 343/349 items from yolov5s.pt\n\u001b[34m\u001b[1mAMP: \u001b[0mchecks passed ✅\n\u001b[34m\u001b[1moptimizer:\u001b[0m SGD(lr=0.01) with parameter groups 57 weight(decay=0.0), 60 weight(decay=0.0005), 60 bias\nWARNING ⚠️ DP not recommended, use torch.distributed.run for best DDP Multi-GPU results.\nSee Multi-GPU Tutorial at https://docs.ultralytics.com/yolov5/tutorials/multi_gpu_training to get started.\n\u001b[34m\u001b[1malbumentations: \u001b[0mBlur(p=0.01, blur_limit=(3, 7)), MedianBlur(p=0.01, blur_limit=(3, 7)), ToGray(p=0.01), CLAHE(p=0.01, clip_limit=(1, 4.0), tile_grid_size=(8, 8))\n\u001b[34m\u001b[1mtrain: \u001b[0mScanning /kaggle/working/train/labels/Apple Scab Leaf.cache... 472 images\u001b[0m\n\u001b[34m\u001b[1mtrain: \u001b[0mWARNING ⚠️ /kaggle/working/train/images/Apple Scab Leaf/crabapple%20scab%20Snowdrift%201%20Crab%206-24-16.JPG.jpg: corrupt JPEG restored and saved\n\u001b[34m\u001b[1mtrain: \u001b[0mWARNING ⚠️ /kaggle/working/train/images/Corn leaf blight/NoCornLeafBlight13b.jpg: ignoring corrupt image/label: non-normalized or out of bounds coordinates [     1.2392      1.0087      1.0838]\n\u001b[34m\u001b[1mtrain: \u001b[0mWARNING ⚠️ /kaggle/working/train/images/Corn leaf blight/gosswilt_TMB.jpg: ignoring corrupt image/label: non-normalized or out of bounds coordinates [     1.3333]\n\u001b[34m\u001b[1mtrain: \u001b[0mWARNING ⚠️ /kaggle/working/train/images/Corn leaf blight/leafblightcorn.jpg: ignoring corrupt image/label: non-normalized or out of bounds coordinates [     1.3333]\n\u001b[34m\u001b[1mval: \u001b[0mScanning /kaggle/working/test/labels/Apple Scab Leaf.cache... 48 images, 0 \u001b[0m\n\n\u001b[34m\u001b[1mAutoAnchor: \u001b[0m2.26 anchors/target, 1.000 Best Possible Recall (BPR). Current anchors are a good fit to dataset ✅\nPlotting labels to runs/train/exp4/labels.jpg... \n/opt/conda/lib/python3.10/site-packages/seaborn/_oldcore.py:1119: FutureWarning: use_inf_as_na option is deprecated and will be removed in a future version. Convert inf values to NaN before operating instead.\n  with pd.option_context('mode.use_inf_as_na', True):\n/opt/conda/lib/python3.10/site-packages/seaborn/_oldcore.py:1119: FutureWarning: use_inf_as_na option is deprecated and will be removed in a future version. Convert inf values to NaN before operating instead.\n  with pd.option_context('mode.use_inf_as_na', True):\n/opt/conda/lib/python3.10/site-packages/seaborn/_oldcore.py:1119: FutureWarning: use_inf_as_na option is deprecated and will be removed in a future version. Convert inf values to NaN before operating instead.\n  with pd.option_context('mode.use_inf_as_na', True):\n/opt/conda/lib/python3.10/site-packages/seaborn/_oldcore.py:1119: FutureWarning: use_inf_as_na option is deprecated and will be removed in a future version. Convert inf values to NaN before operating instead.\n  with pd.option_context('mode.use_inf_as_na', True):\n/opt/conda/lib/python3.10/site-packages/seaborn/_oldcore.py:1119: FutureWarning: use_inf_as_na option is deprecated and will be removed in a future version. Convert inf values to NaN before operating instead.\n  with pd.option_context('mode.use_inf_as_na', True):\n/opt/conda/lib/python3.10/site-packages/seaborn/_oldcore.py:1119: FutureWarning: use_inf_as_na option is deprecated and will be removed in a future version. Convert inf values to NaN before operating instead.\n  with pd.option_context('mode.use_inf_as_na', True):\n/opt/conda/lib/python3.10/site-packages/seaborn/_oldcore.py:1119: FutureWarning: use_inf_as_na option is deprecated and will be removed in a future version. Convert inf values to NaN before operating instead.\n  with pd.option_context('mode.use_inf_as_na', True):\n/opt/conda/lib/python3.10/site-packages/seaborn/_oldcore.py:1119: FutureWarning: use_inf_as_na option is deprecated and will be removed in a future version. Convert inf values to NaN before operating instead.\n  with pd.option_context('mode.use_inf_as_na', True):\n/opt/conda/lib/python3.10/site-packages/seaborn/_oldcore.py:1119: FutureWarning: use_inf_as_na option is deprecated and will be removed in a future version. Convert inf values to NaN before operating instead.\n  with pd.option_context('mode.use_inf_as_na', True):\n/opt/conda/lib/python3.10/site-packages/seaborn/_oldcore.py:1119: FutureWarning: use_inf_as_na option is deprecated and will be removed in a future version. Convert inf values to NaN before operating instead.\n  with pd.option_context('mode.use_inf_as_na', True):\n/opt/conda/lib/python3.10/site-packages/seaborn/_oldcore.py:1119: FutureWarning: use_inf_as_na option is deprecated and will be removed in a future version. Convert inf values to NaN before operating instead.\n  with pd.option_context('mode.use_inf_as_na', True):\n/opt/conda/lib/python3.10/site-packages/seaborn/_oldcore.py:1119: FutureWarning: use_inf_as_na option is deprecated and will be removed in a future version. Convert inf values to NaN before operating instead.\n  with pd.option_context('mode.use_inf_as_na', True):\n/opt/conda/lib/python3.10/site-packages/seaborn/_oldcore.py:1119: FutureWarning: use_inf_as_na option is deprecated and will be removed in a future version. Convert inf values to NaN before operating instead.\n  with pd.option_context('mode.use_inf_as_na', True):\n/opt/conda/lib/python3.10/site-packages/seaborn/_oldcore.py:1119: FutureWarning: use_inf_as_na option is deprecated and will be removed in a future version. Convert inf values to NaN before operating instead.\n  with pd.option_context('mode.use_inf_as_na', True):\n/opt/conda/lib/python3.10/site-packages/seaborn/_oldcore.py:1119: FutureWarning: use_inf_as_na option is deprecated and will be removed in a future version. Convert inf values to NaN before operating instead.\n  with pd.option_context('mode.use_inf_as_na', True):\n/opt/conda/lib/python3.10/site-packages/seaborn/_oldcore.py:1119: FutureWarning: use_inf_as_na option is deprecated and will be removed in a future version. Convert inf values to NaN before operating instead.\n  with pd.option_context('mode.use_inf_as_na', True):\n/opt/conda/lib/python3.10/site-packages/seaborn/_oldcore.py:1119: FutureWarning: use_inf_as_na option is deprecated and will be removed in a future version. Convert inf values to NaN before operating instead.\n  with pd.option_context('mode.use_inf_as_na', True):\n/opt/conda/lib/python3.10/site-packages/seaborn/_oldcore.py:1119: FutureWarning: use_inf_as_na option is deprecated and will be removed in a future version. Convert inf values to NaN before operating instead.\n  with pd.option_context('mode.use_inf_as_na', True):\n/opt/conda/lib/python3.10/site-packages/seaborn/_oldcore.py:1119: FutureWarning: use_inf_as_na option is deprecated and will be removed in a future version. Convert inf values to NaN before operating instead.\n  with pd.option_context('mode.use_inf_as_na', True):\n/opt/conda/lib/python3.10/site-packages/seaborn/_oldcore.py:1119: FutureWarning: use_inf_as_na option is deprecated and will be removed in a future version. Convert inf values to NaN before operating instead.\n  with pd.option_context('mode.use_inf_as_na', True):\nImage sizes 640 train, 640 val\nUsing 2 dataloader workers\nLogging results to \u001b[1mruns/train/exp4\u001b[0m\nStarting training for 200 epochs...\n\n      Epoch    GPU_mem   box_loss   obj_loss   cls_loss  Instances       Size\n      0/199      1.11G    0.07942      0.043    0.04174         32        640: 1\n                 Class     Images  Instances          P          R      mAP50   \n                   all         48         86    0.00432      0.717     0.0117     0.0035\n\n      Epoch    GPU_mem   box_loss   obj_loss   cls_loss  Instances       Size\n      1/199      1.29G      0.062    0.04347    0.03884         43        640: 1\n                 Class     Images  Instances          P          R      mAP50   \n                   all         48         86    0.00611      0.967     0.0549     0.0173\n\n      Epoch    GPU_mem   box_loss   obj_loss   cls_loss  Instances       Size\n      2/199      1.29G    0.05683    0.04699    0.03935         37        640: 1\n                 Class     Images  Instances          P          R      mAP50   \n                   all         48         86     0.0356      0.533     0.0849     0.0254\n\n      Epoch    GPU_mem   box_loss   obj_loss   cls_loss  Instances       Size\n      3/199      1.29G    0.04978    0.04594    0.03518         22        640: 1\n                 Class     Images  Instances          P          R      mAP50   \n                   all         48         86      0.439      0.239     0.0588     0.0173\n\n      Epoch    GPU_mem   box_loss   obj_loss   cls_loss  Instances       Size\n      4/199      1.29G    0.04826    0.04918    0.03638         49        640: 1\n                 Class     Images  Instances          P          R      mAP50   \n                   all         48         86      0.013      0.373     0.0454     0.0156\n\n      Epoch    GPU_mem   box_loss   obj_loss   cls_loss  Instances       Size\n      5/199      1.29G    0.04439     0.0466    0.03614         33        640: 1\n                 Class     Images  Instances          P          R      mAP50   \n                   all         48         86      0.491      0.139      0.106     0.0315\n\n      Epoch    GPU_mem   box_loss   obj_loss   cls_loss  Instances       Size\n      6/199      1.29G     0.0466    0.04852     0.0352         26        640: 1\n                 Class     Images  Instances          P          R      mAP50   \n                   all         48         86      0.212      0.164     0.0466     0.0129\n\n      Epoch    GPU_mem   box_loss   obj_loss   cls_loss  Instances       Size\n      7/199      1.29G    0.04398    0.05028     0.0334         31        640: 1\n                 Class     Images  Instances          P          R      mAP50   \n                   all         48         86      0.479     0.0582     0.0591     0.0208\n\n      Epoch    GPU_mem   box_loss   obj_loss   cls_loss  Instances       Size\n      8/199      1.29G     0.0464    0.04935    0.03469         20        640: 1\n                 Class     Images  Instances          P          R      mAP50   \n                   all         48         86      0.436      0.113     0.0389     0.0129\n\n      Epoch    GPU_mem   box_loss   obj_loss   cls_loss  Instances       Size\n      9/199      1.29G     0.0438    0.04802    0.03193         36        640: 1\n                 Class     Images  Instances          P          R      mAP50   \n                   all         48         86      0.448     0.0846     0.0675     0.0227\n\n      Epoch    GPU_mem   box_loss   obj_loss   cls_loss  Instances       Size\n     10/199      1.29G    0.04266    0.04787    0.03263         27        640: 1\n                 Class     Images  Instances          P          R      mAP50   \n                   all         48         86     0.0369      0.305     0.0387     0.0135\n\n      Epoch    GPU_mem   box_loss   obj_loss   cls_loss  Instances       Size\n     11/199      1.29G    0.04395    0.05023    0.03301         37        640: 1\n                 Class     Images  Instances          P          R      mAP50   \n                   all         48         86      0.468      0.321     0.0809      0.026\n\n      Epoch    GPU_mem   box_loss   obj_loss   cls_loss  Instances       Size\n     12/199      1.29G     0.0419    0.04723    0.02945         32        640: 1\n                 Class     Images  Instances          P          R      mAP50   \n                   all         48         86       0.51      0.183      0.115     0.0426\n\n      Epoch    GPU_mem   box_loss   obj_loss   cls_loss  Instances       Size\n     13/199      1.29G    0.04184    0.04896      0.029         16        640: 1\n                 Class     Images  Instances          P          R      mAP50   \n                   all         48         86      0.583        0.2      0.153     0.0531\n\n      Epoch    GPU_mem   box_loss   obj_loss   cls_loss  Instances       Size\n     14/199      1.29G    0.04205    0.04787    0.03007         18        640: 1\n                 Class     Images  Instances          P          R      mAP50   \n                   all         48         86      0.513      0.215      0.115     0.0402\n\n      Epoch    GPU_mem   box_loss   obj_loss   cls_loss  Instances       Size\n     15/199      1.29G    0.04139    0.04673    0.02833         27        640: 1\n                 Class     Images  Instances          P          R      mAP50   \n                   all         48         86      0.282      0.227     0.0917     0.0338\n\n      Epoch    GPU_mem   box_loss   obj_loss   cls_loss  Instances       Size\n     16/199      1.29G    0.03941    0.04672    0.02722         24        640: 1\n                 Class     Images  Instances          P          R      mAP50   \n                   all         48         86      0.347      0.293      0.182     0.0589\n\n      Epoch    GPU_mem   box_loss   obj_loss   cls_loss  Instances       Size\n     17/199      1.29G    0.04222    0.04916    0.02765         30        640: 1\n                 Class     Images  Instances          P          R      mAP50   \n                   all         48         86       0.52      0.123      0.123     0.0473\n\n      Epoch    GPU_mem   box_loss   obj_loss   cls_loss  Instances       Size\n     18/199      1.29G    0.03878    0.04838    0.02866         32        640: 1\n                 Class     Images  Instances          P          R      mAP50   \n                   all         48         86      0.676       0.16      0.132      0.044\n\n      Epoch    GPU_mem   box_loss   obj_loss   cls_loss  Instances       Size\n     19/199      1.29G    0.03997    0.04726    0.02767         23        640: 1\n                 Class     Images  Instances          P          R      mAP50   \n                   all         48         86      0.695      0.189      0.162     0.0578\n\n      Epoch    GPU_mem   box_loss   obj_loss   cls_loss  Instances       Size\n     20/199      1.29G     0.0424    0.04732    0.02899         26        640: 1\n                 Class     Images  Instances          P          R      mAP50   \n                   all         48         86      0.355      0.211      0.162     0.0493\n\n      Epoch    GPU_mem   box_loss   obj_loss   cls_loss  Instances       Size\n     21/199      1.29G    0.04065    0.04775    0.02563         26        640: 1\n                 Class     Images  Instances          P          R      mAP50   \n                   all         48         86      0.349      0.252      0.137     0.0452\n\n      Epoch    GPU_mem   box_loss   obj_loss   cls_loss  Instances       Size\n     22/199      1.29G     0.0413    0.04912    0.02979         19        640: 1\n                 Class     Images  Instances          P          R      mAP50   \n                   all         48         86      0.463      0.173      0.117     0.0533\n\n      Epoch    GPU_mem   box_loss   obj_loss   cls_loss  Instances       Size\n     23/199      1.29G    0.04124     0.0481    0.02575         44        640: 1\n                 Class     Images  Instances          P          R      mAP50   \n                   all         48         86      0.312      0.143      0.137       0.05\n\n      Epoch    GPU_mem   box_loss   obj_loss   cls_loss  Instances       Size\n     24/199      1.29G    0.04118    0.04766    0.02652         19        640: 1\n                 Class     Images  Instances          P          R      mAP50   \n                   all         48         86      0.438      0.111     0.0888     0.0359\n\n      Epoch    GPU_mem   box_loss   obj_loss   cls_loss  Instances       Size\n     25/199      1.29G    0.04275    0.04733    0.02897         29        640: 1\n                 Class     Images  Instances          P          R      mAP50   \n                   all         48         86      0.163      0.301      0.172     0.0639\n\n      Epoch    GPU_mem   box_loss   obj_loss   cls_loss  Instances       Size\n     26/199      1.29G    0.03898    0.04529     0.0275         28        640: 1\n                 Class     Images  Instances          P          R      mAP50   \n                   all         48         86      0.339      0.185      0.149     0.0556\n\n      Epoch    GPU_mem   box_loss   obj_loss   cls_loss  Instances       Size\n     27/199      1.29G    0.04121    0.04768    0.02475         25        640: 1\n                 Class     Images  Instances          P          R      mAP50   \n                   all         48         86      0.357      0.361      0.174     0.0665\n\n      Epoch    GPU_mem   box_loss   obj_loss   cls_loss  Instances       Size\n     28/199      1.29G    0.04071    0.04845    0.02485         19        640: 1\n                 Class     Images  Instances          P          R      mAP50   \n                   all         48         86      0.514      0.305      0.178     0.0721\n\n      Epoch    GPU_mem   box_loss   obj_loss   cls_loss  Instances       Size\n     29/199      1.29G     0.0419    0.04593    0.02539         22        640: 1\n                 Class     Images  Instances          P          R      mAP50   \n                   all         48         86      0.394      0.249      0.191     0.0678\n\n      Epoch    GPU_mem   box_loss   obj_loss   cls_loss  Instances       Size\n     30/199      1.29G    0.04141    0.05088    0.02539         61        640: 1\n                 Class     Images  Instances          P          R      mAP50   \n                   all         48         86      0.336      0.307      0.178     0.0712\n\n      Epoch    GPU_mem   box_loss   obj_loss   cls_loss  Instances       Size\n     31/199      1.29G    0.04036    0.04547     0.0227         40        640: 1\n                 Class     Images  Instances          P          R      mAP50   \n                   all         48         86      0.359      0.281      0.167     0.0611\n\n      Epoch    GPU_mem   box_loss   obj_loss   cls_loss  Instances       Size\n     32/199      1.29G    0.03901    0.04616    0.02402         15        640: 1\n                 Class     Images  Instances          P          R      mAP50   \n                   all         48         86      0.522      0.262      0.253      0.113\n\n      Epoch    GPU_mem   box_loss   obj_loss   cls_loss  Instances       Size\n     33/199      1.29G    0.03695    0.04566    0.02327         34        640: 1\n                 Class     Images  Instances          P          R      mAP50   \n                   all         48         86      0.413      0.286      0.222     0.0857\n\n      Epoch    GPU_mem   box_loss   obj_loss   cls_loss  Instances       Size\n     34/199      1.29G    0.03698      0.046    0.02601         33        640: 1\n                 Class     Images  Instances          P          R      mAP50   \n                   all         48         86      0.406      0.346      0.255      0.105\n\n      Epoch    GPU_mem   box_loss   obj_loss   cls_loss  Instances       Size\n     35/199      1.29G    0.03724    0.04645     0.0242         16        640: 1\n                 Class     Images  Instances          P          R      mAP50   \n                   all         48         86      0.151      0.281      0.203     0.0842\n\n      Epoch    GPU_mem   box_loss   obj_loss   cls_loss  Instances       Size\n     36/199      1.29G    0.03855    0.04667    0.02464         20        640: 1\n                 Class     Images  Instances          P          R      mAP50   \n                   all         48         86      0.395      0.267      0.217     0.0818\n\n      Epoch    GPU_mem   box_loss   obj_loss   cls_loss  Instances       Size\n     37/199      1.29G    0.03973    0.04535    0.02479         35        640: 1\n                 Class     Images  Instances          P          R      mAP50   \n                   all         48         86      0.449      0.271       0.25      0.093\n\n      Epoch    GPU_mem   box_loss   obj_loss   cls_loss  Instances       Size\n     38/199      1.29G     0.0356    0.04347    0.02309         17        640: 1\n                 Class     Images  Instances          P          R      mAP50   \n                   all         48         86      0.396      0.299      0.242      0.095\n\n      Epoch    GPU_mem   box_loss   obj_loss   cls_loss  Instances       Size\n     39/199      1.29G    0.03867    0.04687    0.02586         21        640: 1\n                 Class     Images  Instances          P          R      mAP50   \n                   all         48         86      0.424      0.299      0.274      0.112\n\n      Epoch    GPU_mem   box_loss   obj_loss   cls_loss  Instances       Size\n     40/199      1.29G    0.03788    0.04568    0.02221         43        640: 1\n                 Class     Images  Instances          P          R      mAP50   \n                   all         48         86      0.538      0.235      0.277      0.112\n\n      Epoch    GPU_mem   box_loss   obj_loss   cls_loss  Instances       Size\n     41/199      1.29G    0.03797    0.04565    0.02151         22        640: 1\n                 Class     Images  Instances          P          R      mAP50   \n                   all         48         86       0.42      0.304      0.267      0.119\n\n      Epoch    GPU_mem   box_loss   obj_loss   cls_loss  Instances       Size\n     42/199      1.29G    0.03646    0.04604    0.02283         21        640: 1\n                 Class     Images  Instances          P          R      mAP50   \n                   all         48         86      0.419      0.256      0.237     0.0894\n\n      Epoch    GPU_mem   box_loss   obj_loss   cls_loss  Instances       Size\n     43/199      1.29G    0.03652    0.04644    0.02371         22        640: 1\n                 Class     Images  Instances          P          R      mAP50   \n                   all         48         86      0.486      0.302      0.263     0.0895\n\n      Epoch    GPU_mem   box_loss   obj_loss   cls_loss  Instances       Size\n     44/199      1.29G    0.04085    0.04799     0.0248         45        640: 1\n                 Class     Images  Instances          P          R      mAP50   \n                   all         48         86       0.39      0.333      0.222     0.0884\n\n      Epoch    GPU_mem   box_loss   obj_loss   cls_loss  Instances       Size\n     45/199      1.29G    0.03837    0.04741    0.02541         39        640: 1\n                 Class     Images  Instances          P          R      mAP50   \n                   all         48         86      0.429      0.278      0.298        0.1\n\n      Epoch    GPU_mem   box_loss   obj_loss   cls_loss  Instances       Size\n     46/199      1.29G    0.04064    0.04657    0.02451         35        640: 1\n                 Class     Images  Instances          P          R      mAP50   \n                   all         48         86      0.264      0.337      0.257     0.0995\n\n      Epoch    GPU_mem   box_loss   obj_loss   cls_loss  Instances       Size\n     47/199      1.29G    0.03781    0.04526    0.02123         39        640: 1\n                 Class     Images  Instances          P          R      mAP50   \n                   all         48         86      0.454      0.271      0.235     0.0947\n\n      Epoch    GPU_mem   box_loss   obj_loss   cls_loss  Instances       Size\n     48/199      1.29G    0.03512    0.04791    0.02161         26        640: 1\n                 Class     Images  Instances          P          R      mAP50   \n                   all         48         86      0.401      0.365      0.242     0.0996\n\n      Epoch    GPU_mem   box_loss   obj_loss   cls_loss  Instances       Size\n     49/199      1.29G      0.037    0.04803    0.02186         20        640: 1\n                 Class     Images  Instances          P          R      mAP50   \n                   all         48         86      0.525      0.317      0.287       0.12\n\n      Epoch    GPU_mem   box_loss   obj_loss   cls_loss  Instances       Size\n     50/199      1.29G    0.03513    0.04403    0.02251         17        640: 1\n                 Class     Images  Instances          P          R      mAP50   \n                   all         48         86       0.53      0.302      0.265      0.111\n\n      Epoch    GPU_mem   box_loss   obj_loss   cls_loss  Instances       Size\n     51/199      1.29G    0.03889    0.04687    0.02258         54        640: 1\n                 Class     Images  Instances          P          R      mAP50   \n                   all         48         86      0.457      0.278      0.219      0.093\n\n      Epoch    GPU_mem   box_loss   obj_loss   cls_loss  Instances       Size\n     52/199      1.29G    0.03872    0.04813    0.02003         33        640: 1\n                 Class     Images  Instances          P          R      mAP50   \n                   all         48         86      0.567      0.304      0.314      0.129\n\n      Epoch    GPU_mem   box_loss   obj_loss   cls_loss  Instances       Size\n     53/199      1.29G    0.03731    0.04656    0.02103         20        640: 1\n                 Class     Images  Instances          P          R      mAP50   \n                   all         48         86      0.447      0.326      0.289      0.131\n\n      Epoch    GPU_mem   box_loss   obj_loss   cls_loss  Instances       Size\n     54/199      1.29G    0.03871    0.04556    0.02113         25        640: 1\n                 Class     Images  Instances          P          R      mAP50   \n                   all         48         86       0.44      0.426       0.29      0.126\n\n      Epoch    GPU_mem   box_loss   obj_loss   cls_loss  Instances       Size\n     55/199      1.29G     0.0381    0.04648    0.02169         35        640: 1\n                 Class     Images  Instances          P          R      mAP50   \n                   all         48         86      0.497      0.332      0.308      0.116\n\n      Epoch    GPU_mem   box_loss   obj_loss   cls_loss  Instances       Size\n     56/199      1.29G     0.0365    0.04678    0.02038         40        640: 1\n                 Class     Images  Instances          P          R      mAP50   \n                   all         48         86      0.387      0.409      0.296       0.12\n\n      Epoch    GPU_mem   box_loss   obj_loss   cls_loss  Instances       Size\n     57/199      1.29G     0.0377    0.04561    0.02175         32        640: 1\n                 Class     Images  Instances          P          R      mAP50   \n                   all         48         86      0.487      0.329      0.332      0.142\n\n      Epoch    GPU_mem   box_loss   obj_loss   cls_loss  Instances       Size\n     58/199      1.29G     0.0383    0.04631    0.01922         28        640: 1\n                 Class     Images  Instances          P          R      mAP50   \n                   all         48         86      0.453       0.34      0.291      0.118\n\n      Epoch    GPU_mem   box_loss   obj_loss   cls_loss  Instances       Size\n     59/199      1.29G     0.0391    0.04709    0.02075         26        640: 1\n                 Class     Images  Instances          P          R      mAP50   \n                   all         48         86      0.429      0.403      0.296      0.108\n\n      Epoch    GPU_mem   box_loss   obj_loss   cls_loss  Instances       Size\n     60/199      1.29G    0.03737    0.04551     0.0227         34        640: 1\n                 Class     Images  Instances          P          R      mAP50   \n                   all         48         86      0.392      0.381      0.289      0.107\n\n      Epoch    GPU_mem   box_loss   obj_loss   cls_loss  Instances       Size\n     61/199      1.29G    0.03571     0.0448    0.01959         19        640: 1\n                 Class     Images  Instances          P          R      mAP50   \n                   all         48         86      0.388      0.344      0.333      0.117\n\n      Epoch    GPU_mem   box_loss   obj_loss   cls_loss  Instances       Size\n     62/199      1.29G    0.03841     0.0468    0.02313         43        640: 1\n                 Class     Images  Instances          P          R      mAP50   \n                   all         48         86      0.258      0.364       0.32       0.12\n\n      Epoch    GPU_mem   box_loss   obj_loss   cls_loss  Instances       Size\n     63/199      1.29G    0.03773    0.04731    0.01992         30        640: 1\n                 Class     Images  Instances          P          R      mAP50   \n                   all         48         86      0.419      0.355       0.33      0.125\n\n      Epoch    GPU_mem   box_loss   obj_loss   cls_loss  Instances       Size\n     64/199      1.29G    0.03587    0.04526    0.01849         43        640: 1\n                 Class     Images  Instances          P          R      mAP50   \n                   all         48         86      0.455      0.356      0.311      0.118\n\n      Epoch    GPU_mem   box_loss   obj_loss   cls_loss  Instances       Size\n     65/199      1.29G    0.03791    0.04645    0.01861         39        640: 1\n                 Class     Images  Instances          P          R      mAP50   \n                   all         48         86      0.471      0.378      0.358      0.146\n\n      Epoch    GPU_mem   box_loss   obj_loss   cls_loss  Instances       Size\n     66/199      1.29G    0.03602    0.04663     0.0177         25        640: 1\n                 Class     Images  Instances          P          R      mAP50   \n                   all         48         86      0.448      0.402      0.311      0.125\n\n      Epoch    GPU_mem   box_loss   obj_loss   cls_loss  Instances       Size\n     67/199      1.29G     0.0376    0.04842    0.02233         38        640: 1\n                 Class     Images  Instances          P          R      mAP50   \n                   all         48         86      0.352      0.354      0.275      0.102\n\n      Epoch    GPU_mem   box_loss   obj_loss   cls_loss  Instances       Size\n     68/199      1.29G    0.03776    0.04734    0.02022         50        640: 1\n                 Class     Images  Instances          P          R      mAP50   \n                   all         48         86      0.256      0.394      0.275      0.106\n\n      Epoch    GPU_mem   box_loss   obj_loss   cls_loss  Instances       Size\n     69/199      1.29G    0.03423    0.04524    0.01735         35        640: 1\n                 Class     Images  Instances          P          R      mAP50   \n                   all         48         86      0.272      0.474      0.322      0.121\n\n      Epoch    GPU_mem   box_loss   obj_loss   cls_loss  Instances       Size\n     70/199      1.29G    0.03449    0.04523    0.01956         20        640: 1\n                 Class     Images  Instances          P          R      mAP50   \n                   all         48         86      0.284      0.396      0.362      0.135\n\n      Epoch    GPU_mem   box_loss   obj_loss   cls_loss  Instances       Size\n     71/199      1.29G    0.03615    0.04363    0.01961         24        640: 1\n                 Class     Images  Instances          P          R      mAP50   \n                   all         48         86      0.241      0.409      0.291      0.115\n\n      Epoch    GPU_mem   box_loss   obj_loss   cls_loss  Instances       Size\n     72/199      1.29G    0.03853    0.04642    0.01872         17        640: 1\n                 Class     Images  Instances          P          R      mAP50   \n                   all         48         86      0.318      0.462      0.284      0.114\n\n      Epoch    GPU_mem   box_loss   obj_loss   cls_loss  Instances       Size\n     73/199      1.29G    0.03751    0.04408    0.02028         21        640: 1\n                 Class     Images  Instances          P          R      mAP50   \n                   all         48         86        0.4      0.422      0.305      0.124\n\n      Epoch    GPU_mem   box_loss   obj_loss   cls_loss  Instances       Size\n     74/199      1.29G    0.03555    0.04692    0.02084         23        640: 1\n                 Class     Images  Instances          P          R      mAP50   \n                   all         48         86      0.442      0.322       0.23     0.0885\n\n      Epoch    GPU_mem   box_loss   obj_loss   cls_loss  Instances       Size\n     75/199      1.29G    0.03487    0.04309    0.01943         26        640: 1\n                 Class     Images  Instances          P          R      mAP50   \n                   all         48         86       0.52      0.394      0.315      0.134\n\n      Epoch    GPU_mem   box_loss   obj_loss   cls_loss  Instances       Size\n     76/199      1.29G    0.03535     0.0453    0.01775         20        640: 1\n                 Class     Images  Instances          P          R      mAP50   \n                   all         48         86      0.493      0.561      0.412      0.176\n\n      Epoch    GPU_mem   box_loss   obj_loss   cls_loss  Instances       Size\n     77/199      1.29G    0.03651    0.04484    0.01893         16        640: 1\n                 Class     Images  Instances          P          R      mAP50   \n                   all         48         86       0.39      0.449      0.385      0.165\n\n      Epoch    GPU_mem   box_loss   obj_loss   cls_loss  Instances       Size\n     78/199      1.29G    0.03313    0.04483    0.01654         34        640: 1\n                 Class     Images  Instances          P          R      mAP50   \n                   all         48         86       0.31      0.487      0.341      0.138\n\n      Epoch    GPU_mem   box_loss   obj_loss   cls_loss  Instances       Size\n     79/199      1.29G    0.03414    0.04554    0.01727         14        640: 1\n                 Class     Images  Instances          P          R      mAP50   \n                   all         48         86      0.283      0.472      0.358      0.151\n\n      Epoch    GPU_mem   box_loss   obj_loss   cls_loss  Instances       Size\n     80/199      1.29G    0.03551    0.04504    0.01693         38        640: 1\n                 Class     Images  Instances          P          R      mAP50   \n                   all         48         86      0.337      0.478      0.331      0.148\n\n      Epoch    GPU_mem   box_loss   obj_loss   cls_loss  Instances       Size\n     81/199      1.29G    0.03624    0.04541    0.01685         47        640: 1\n                 Class     Images  Instances          P          R      mAP50   \n                   all         48         86      0.223      0.496      0.365      0.161\n\n      Epoch    GPU_mem   box_loss   obj_loss   cls_loss  Instances       Size\n     82/199      1.29G    0.03727    0.04792    0.01623         14        640: 1\n                 Class     Images  Instances          P          R      mAP50   \n                   all         48         86      0.423      0.435      0.346      0.161\n\n      Epoch    GPU_mem   box_loss   obj_loss   cls_loss  Instances       Size\n     83/199      1.29G    0.03589    0.04426    0.01713         45        640: 1\n                 Class     Images  Instances          P          R      mAP50   \n                   all         48         86      0.412      0.355      0.339      0.158\n\n      Epoch    GPU_mem   box_loss   obj_loss   cls_loss  Instances       Size\n     84/199      1.29G    0.03749    0.04544    0.01523         39        640: 1\n                 Class     Images  Instances          P          R      mAP50   \n                   all         48         86      0.376      0.427      0.357      0.147\n\n      Epoch    GPU_mem   box_loss   obj_loss   cls_loss  Instances       Size\n     85/199      1.29G    0.03676    0.04615    0.01594         17        640: 1\n                 Class     Images  Instances          P          R      mAP50   \n                   all         48         86      0.321      0.484      0.307      0.124\n\n      Epoch    GPU_mem   box_loss   obj_loss   cls_loss  Instances       Size\n     86/199      1.29G    0.03748     0.0465    0.01597         43        640: 1\n                 Class     Images  Instances          P          R      mAP50   \n                   all         48         86      0.341      0.424      0.335      0.131\n\n      Epoch    GPU_mem   box_loss   obj_loss   cls_loss  Instances       Size\n     87/199      1.29G    0.03471    0.04439    0.01754         32        640: 1\n                 Class     Images  Instances          P          R      mAP50   \n                   all         48         86      0.306      0.439      0.338      0.137\n\n      Epoch    GPU_mem   box_loss   obj_loss   cls_loss  Instances       Size\n     88/199      1.29G    0.03644    0.04501    0.01531         43        640: 1\n                 Class     Images  Instances          P          R      mAP50   \n                   all         48         86      0.337      0.404      0.367      0.147\n\n      Epoch    GPU_mem   box_loss   obj_loss   cls_loss  Instances       Size\n     89/199      1.29G     0.0359    0.04492    0.01614         30        640: 1\n                 Class     Images  Instances          P          R      mAP50   \n                   all         48         86      0.432      0.496       0.47      0.213\n\n      Epoch    GPU_mem   box_loss   obj_loss   cls_loss  Instances       Size\n     90/199      1.29G    0.03494    0.04751    0.01547         20        640: 1\n                 Class     Images  Instances          P          R      mAP50   \n                   all         48         86      0.425       0.44      0.443      0.193\n\n      Epoch    GPU_mem   box_loss   obj_loss   cls_loss  Instances       Size\n     91/199      1.29G    0.03398    0.04531    0.01559         15        640: 1\n                 Class     Images  Instances          P          R      mAP50   \n                   all         48         86      0.337      0.465      0.351      0.163\n\n      Epoch    GPU_mem   box_loss   obj_loss   cls_loss  Instances       Size\n     92/199      1.29G    0.03546    0.04541    0.01435         32        640: 1\n                 Class     Images  Instances          P          R      mAP50   \n                   all         48         86      0.354      0.466      0.353      0.155\n\n      Epoch    GPU_mem   box_loss   obj_loss   cls_loss  Instances       Size\n     93/199      1.29G    0.03702    0.04541    0.01547         20        640: 1\n                 Class     Images  Instances          P          R      mAP50   \n                   all         48         86      0.381      0.315      0.354      0.154\n\n      Epoch    GPU_mem   box_loss   obj_loss   cls_loss  Instances       Size\n     94/199      1.29G    0.03553    0.04564    0.01663         25        640: 1\n                 Class     Images  Instances          P          R      mAP50   \n                   all         48         86      0.348      0.383      0.363      0.171\n\n      Epoch    GPU_mem   box_loss   obj_loss   cls_loss  Instances       Size\n     95/199      1.29G    0.03542    0.04451    0.01483         23        640: 1\n                 Class     Images  Instances          P          R      mAP50   \n                   all         48         86      0.292      0.403      0.337      0.135\n\n      Epoch    GPU_mem   box_loss   obj_loss   cls_loss  Instances       Size\n     96/199      1.29G    0.03479    0.04483    0.01763         57        640: 1\n                 Class     Images  Instances          P          R      mAP50   \n                   all         48         86      0.281      0.531      0.367      0.148\n\n      Epoch    GPU_mem   box_loss   obj_loss   cls_loss  Instances       Size\n     97/199      1.29G    0.03366    0.04593    0.01494         26        640: 1\n                 Class     Images  Instances          P          R      mAP50   \n                   all         48         86      0.237      0.395      0.286      0.124\n\n      Epoch    GPU_mem   box_loss   obj_loss   cls_loss  Instances       Size\n     98/199      1.29G    0.03316     0.0451    0.01543         52        640: 1\n                 Class     Images  Instances          P          R      mAP50   \n                   all         48         86       0.33      0.447      0.357      0.144\n\n      Epoch    GPU_mem   box_loss   obj_loss   cls_loss  Instances       Size\n     99/199      1.29G    0.03563    0.04533      0.015         31        640: 1\n                 Class     Images  Instances          P          R      mAP50   \n                   all         48         86      0.316      0.527      0.374      0.152\n\n      Epoch    GPU_mem   box_loss   obj_loss   cls_loss  Instances       Size\n    100/199      1.29G     0.0348    0.04617    0.01476         41        640: 1\n                 Class     Images  Instances          P          R      mAP50   \n                   all         48         86      0.353      0.503      0.441      0.168\n\n      Epoch    GPU_mem   box_loss   obj_loss   cls_loss  Instances       Size\n    101/199      1.29G    0.03524    0.04476    0.01453         29        640: 1\n                 Class     Images  Instances          P          R      mAP50   \n                   all         48         86      0.332      0.528      0.369      0.152\n\n      Epoch    GPU_mem   box_loss   obj_loss   cls_loss  Instances       Size\n    102/199      1.29G    0.03578    0.04385     0.0139         15        640: 1\n                 Class     Images  Instances          P          R      mAP50   \n                   all         48         86      0.277      0.477      0.325      0.138\n\n      Epoch    GPU_mem   box_loss   obj_loss   cls_loss  Instances       Size\n    103/199      1.29G    0.03239    0.04422    0.01368         21        640: 1\n                 Class     Images  Instances          P          R      mAP50   \n                   all         48         86      0.303      0.456      0.425      0.163\n\n      Epoch    GPU_mem   box_loss   obj_loss   cls_loss  Instances       Size\n    104/199      1.29G    0.03459    0.04443    0.01415         24        640: 1\n                 Class     Images  Instances          P          R      mAP50   \n                   all         48         86      0.392      0.407      0.414      0.187\n\n      Epoch    GPU_mem   box_loss   obj_loss   cls_loss  Instances       Size\n    105/199      1.29G    0.03595    0.04651     0.0155         26        640: 1\n                 Class     Images  Instances          P          R      mAP50   \n                   all         48         86      0.269      0.409      0.319      0.137\n\n      Epoch    GPU_mem   box_loss   obj_loss   cls_loss  Instances       Size\n    106/199      1.29G    0.03533     0.0445    0.01377         27        640: 1\n                 Class     Images  Instances          P          R      mAP50   \n                   all         48         86      0.309      0.576      0.384       0.17\n\n      Epoch    GPU_mem   box_loss   obj_loss   cls_loss  Instances       Size\n    107/199      1.29G    0.03429    0.04339    0.01612         26        640: 1\n                 Class     Images  Instances          P          R      mAP50   \n                   all         48         86      0.268      0.449      0.312      0.137\n\n      Epoch    GPU_mem   box_loss   obj_loss   cls_loss  Instances       Size\n    108/199      1.29G    0.03639    0.04511     0.0154         31        640: 1\n                 Class     Images  Instances          P          R      mAP50   \n                   all         48         86      0.342      0.568      0.409      0.165\n\n      Epoch    GPU_mem   box_loss   obj_loss   cls_loss  Instances       Size\n    109/199      1.29G      0.035    0.04477    0.01515         26        640: 1\n                 Class     Images  Instances          P          R      mAP50   \n                   all         48         86      0.383      0.609       0.44      0.196\n\n      Epoch    GPU_mem   box_loss   obj_loss   cls_loss  Instances       Size\n    110/199      1.29G    0.03429    0.04623    0.01297         24        640: 1\n                 Class     Images  Instances          P          R      mAP50   \n                   all         48         86      0.403      0.516      0.391      0.159\n\n      Epoch    GPU_mem   box_loss   obj_loss   cls_loss  Instances       Size\n    111/199      1.29G    0.03572    0.04624    0.01304         42        640: 1\n                 Class     Images  Instances          P          R      mAP50   \n                   all         48         86      0.358      0.517      0.418      0.162\n\n      Epoch    GPU_mem   box_loss   obj_loss   cls_loss  Instances       Size\n    112/199      1.29G    0.03197    0.04329    0.01349         23        640: 1\n                 Class     Images  Instances          P          R      mAP50   \n                   all         48         86      0.343      0.485      0.351      0.146\n\n      Epoch    GPU_mem   box_loss   obj_loss   cls_loss  Instances       Size\n    113/199      1.29G    0.03344    0.04344    0.01396         25        640: 1\n                 Class     Images  Instances          P          R      mAP50   \n                   all         48         86       0.35      0.518      0.397      0.161\n\n      Epoch    GPU_mem   box_loss   obj_loss   cls_loss  Instances       Size\n    114/199      1.29G    0.03321    0.04467    0.01192         12        640: 1\n                 Class     Images  Instances          P          R      mAP50   \n                   all         48         86      0.425      0.586      0.452      0.189\n\n      Epoch    GPU_mem   box_loss   obj_loss   cls_loss  Instances       Size\n    115/199      1.29G    0.03623    0.04448    0.01282         27        640: 1\n                 Class     Images  Instances          P          R      mAP50   \n                   all         48         86      0.404      0.633      0.411      0.185\n\n      Epoch    GPU_mem   box_loss   obj_loss   cls_loss  Instances       Size\n    116/199      1.29G    0.03403    0.04268    0.01252         14        640: 1\n                 Class     Images  Instances          P          R      mAP50   \n                   all         48         86      0.343      0.608      0.346       0.15\n\n      Epoch    GPU_mem   box_loss   obj_loss   cls_loss  Instances       Size\n    117/199      1.29G    0.03518    0.04444    0.01224         43        640: 1\n                 Class     Images  Instances          P          R      mAP50   \n                   all         48         86      0.349      0.543       0.38      0.148\n\n      Epoch    GPU_mem   box_loss   obj_loss   cls_loss  Instances       Size\n    118/199      1.29G     0.0375     0.0439    0.01212         34        640: 1\n                 Class     Images  Instances          P          R      mAP50   \n                   all         48         86      0.295      0.495      0.321      0.127\n\n      Epoch    GPU_mem   box_loss   obj_loss   cls_loss  Instances       Size\n    119/199      1.29G    0.03532    0.04267    0.01402         26        640: 1\n                 Class     Images  Instances          P          R      mAP50   \n                   all         48         86      0.367       0.52      0.424      0.183\n\n      Epoch    GPU_mem   box_loss   obj_loss   cls_loss  Instances       Size\n    120/199      1.29G    0.03477    0.04346    0.01307         30        640: 1\n                 Class     Images  Instances          P          R      mAP50   \n                   all         48         86      0.328      0.524      0.396      0.183\n\n      Epoch    GPU_mem   box_loss   obj_loss   cls_loss  Instances       Size\n    121/199      1.29G    0.03295    0.04337    0.01077         41        640: 1\n                 Class     Images  Instances          P          R      mAP50   \n                   all         48         86      0.401      0.584       0.41      0.182\n\n      Epoch    GPU_mem   box_loss   obj_loss   cls_loss  Instances       Size\n    122/199      1.29G     0.0343    0.04505    0.01103         36        640: 1\n                 Class     Images  Instances          P          R      mAP50   \n                   all         48         86      0.393      0.555      0.414      0.184\n\n      Epoch    GPU_mem   box_loss   obj_loss   cls_loss  Instances       Size\n    123/199      1.29G    0.03572    0.04383    0.01204         46        640: 1\n                 Class     Images  Instances          P          R      mAP50   \n                   all         48         86       0.39      0.587        0.4      0.179\n\n      Epoch    GPU_mem   box_loss   obj_loss   cls_loss  Instances       Size\n    124/199      1.29G    0.03297    0.04483    0.01162         35        640: 1\n                 Class     Images  Instances          P          R      mAP50   \n                   all         48         86      0.396      0.606      0.405      0.188\n\n      Epoch    GPU_mem   box_loss   obj_loss   cls_loss  Instances       Size\n    125/199      1.29G    0.03621     0.0459    0.01043         22        640: 1\n                 Class     Images  Instances          P          R      mAP50   \n                   all         48         86      0.408      0.653      0.426      0.184\n\n      Epoch    GPU_mem   box_loss   obj_loss   cls_loss  Instances       Size\n    126/199      1.29G    0.03406    0.04392    0.01149         25        640: 1\n                 Class     Images  Instances          P          R      mAP50   \n                   all         48         86      0.465      0.624       0.46      0.194\n\n      Epoch    GPU_mem   box_loss   obj_loss   cls_loss  Instances       Size\n    127/199      1.29G    0.03333    0.04707    0.01185         56        640: 1\n                 Class     Images  Instances          P          R      mAP50   \n                   all         48         86      0.439      0.616      0.454      0.194\n\n      Epoch    GPU_mem   box_loss   obj_loss   cls_loss  Instances       Size\n    128/199      1.29G    0.03398    0.04579    0.01084         49        640: 1\n                 Class     Images  Instances          P          R      mAP50   \n                   all         48         86      0.451      0.548      0.472      0.215\n\n      Epoch    GPU_mem   box_loss   obj_loss   cls_loss  Instances       Size\n    129/199      1.29G    0.03695    0.04455    0.01292         26        640: 1\n                 Class     Images  Instances          P          R      mAP50   \n                   all         48         86      0.425      0.612      0.484      0.207\n\n      Epoch    GPU_mem   box_loss   obj_loss   cls_loss  Instances       Size\n    130/199      1.29G    0.03114     0.0426    0.01047         42        640: 1\n                 Class     Images  Instances          P          R      mAP50   \n                   all         48         86      0.436      0.658       0.45       0.19\n\n      Epoch    GPU_mem   box_loss   obj_loss   cls_loss  Instances       Size\n    131/199      1.29G    0.03282    0.04408    0.01224         35        640: 1\n                 Class     Images  Instances          P          R      mAP50   \n                   all         48         86      0.412      0.644      0.412      0.184\n\n      Epoch    GPU_mem   box_loss   obj_loss   cls_loss  Instances       Size\n    132/199      1.29G    0.03515    0.04615     0.0108         20        640: 1\n                 Class     Images  Instances          P          R      mAP50   \n                   all         48         86      0.446      0.634      0.451      0.203\n\n      Epoch    GPU_mem   box_loss   obj_loss   cls_loss  Instances       Size\n    133/199      1.29G     0.0326    0.04386    0.01115         24        640: 1\n                 Class     Images  Instances          P          R      mAP50   \n                   all         48         86      0.385      0.601       0.43      0.198\n\n      Epoch    GPU_mem   box_loss   obj_loss   cls_loss  Instances       Size\n    134/199      1.29G    0.03246    0.04389    0.01204         35        640: 1\n                 Class     Images  Instances          P          R      mAP50   \n                   all         48         86      0.385       0.53      0.428      0.195\n\n      Epoch    GPU_mem   box_loss   obj_loss   cls_loss  Instances       Size\n    135/199      1.29G    0.03335    0.04566    0.01103         44        640: 1\n                 Class     Images  Instances          P          R      mAP50   \n                   all         48         86      0.378      0.607      0.474      0.196\n\n      Epoch    GPU_mem   box_loss   obj_loss   cls_loss  Instances       Size\n    136/199      1.29G    0.03281    0.04417    0.01029         31        640: 1\n                 Class     Images  Instances          P          R      mAP50   \n                   all         48         86      0.384      0.572      0.499      0.196\n\n      Epoch    GPU_mem   box_loss   obj_loss   cls_loss  Instances       Size\n    137/199      1.29G    0.03432    0.04466     0.0108         36        640: 1\n                 Class     Images  Instances          P          R      mAP50   \n                   all         48         86      0.493       0.61      0.537      0.213\n\n      Epoch    GPU_mem   box_loss   obj_loss   cls_loss  Instances       Size\n    138/199      1.29G    0.03298    0.04312    0.01135         23        640: 1\n                 Class     Images  Instances          P          R      mAP50   \n                   all         48         86      0.439      0.616      0.535      0.239\n\n      Epoch    GPU_mem   box_loss   obj_loss   cls_loss  Instances       Size\n    139/199      1.29G    0.03264    0.04533    0.01109         21        640: 1\n                 Class     Images  Instances          P          R      mAP50   \n                   all         48         86      0.474      0.584      0.528      0.224\n\n      Epoch    GPU_mem   box_loss   obj_loss   cls_loss  Instances       Size\n    140/199      1.29G    0.03384    0.04356    0.01233         44        640: 1\n                 Class     Images  Instances          P          R      mAP50   \n                   all         48         86       0.43       0.58      0.525      0.217\n\n      Epoch    GPU_mem   box_loss   obj_loss   cls_loss  Instances       Size\n    141/199      1.29G    0.03236    0.04252   0.009305         25        640: 1\n                 Class     Images  Instances          P          R      mAP50   \n                   all         48         86      0.421      0.617      0.529      0.202\n\n      Epoch    GPU_mem   box_loss   obj_loss   cls_loss  Instances       Size\n    142/199      1.29G    0.03261    0.04329   0.009825         39        640: 1\n                 Class     Images  Instances          P          R      mAP50   \n                   all         48         86      0.446      0.631      0.519      0.204\n\n      Epoch    GPU_mem   box_loss   obj_loss   cls_loss  Instances       Size\n    143/199      1.29G    0.03212    0.04141    0.01091         28        640: 1\n                 Class     Images  Instances          P          R      mAP50   \n                   all         48         86      0.414      0.645      0.513      0.205\n\n      Epoch    GPU_mem   box_loss   obj_loss   cls_loss  Instances       Size\n    144/199      1.29G    0.03262    0.04283    0.01003         33        640: 1\n                 Class     Images  Instances          P          R      mAP50   \n                   all         48         86      0.442      0.617       0.49      0.201\n\n      Epoch    GPU_mem   box_loss   obj_loss   cls_loss  Instances       Size\n    145/199      1.29G    0.03313    0.04507     0.0104         36        640: 1\n                 Class     Images  Instances          P          R      mAP50   \n                   all         48         86      0.482      0.622      0.508      0.225\n\n      Epoch    GPU_mem   box_loss   obj_loss   cls_loss  Instances       Size\n    146/199      1.29G    0.03346    0.04426   0.009451         19        640: 1\n                 Class     Images  Instances          P          R      mAP50   \n                   all         48         86      0.417      0.639      0.525      0.249\n\n      Epoch    GPU_mem   box_loss   obj_loss   cls_loss  Instances       Size\n    147/199      1.29G    0.03378    0.04517    0.01034         45        640: 1\n                 Class     Images  Instances          P          R      mAP50   \n                   all         48         86      0.389      0.642      0.481      0.203\n\n      Epoch    GPU_mem   box_loss   obj_loss   cls_loss  Instances       Size\n    148/199      1.29G    0.03162     0.0414   0.009457         34        640: 1\n                 Class     Images  Instances          P          R      mAP50   \n                   all         48         86      0.383      0.633      0.434      0.187\n\n      Epoch    GPU_mem   box_loss   obj_loss   cls_loss  Instances       Size\n    149/199      1.29G    0.03474    0.04355    0.01044         31        640: 1\n                 Class     Images  Instances          P          R      mAP50   \n                   all         48         86      0.394      0.609       0.44      0.191\n\n      Epoch    GPU_mem   box_loss   obj_loss   cls_loss  Instances       Size\n    150/199      1.29G    0.03208    0.04252    0.01118         17        640: 1\n                 Class     Images  Instances          P          R      mAP50   \n                   all         48         86      0.379      0.604      0.457      0.192\n\n      Epoch    GPU_mem   box_loss   obj_loss   cls_loss  Instances       Size\n    151/199      1.29G    0.03178    0.04129    0.01096         31        640: 1\n                 Class     Images  Instances          P          R      mAP50   \n                   all         48         86      0.397      0.667      0.573      0.257\n\n      Epoch    GPU_mem   box_loss   obj_loss   cls_loss  Instances       Size\n    152/199      1.29G    0.03367    0.04465   0.008359         50        640: 1\n                 Class     Images  Instances          P          R      mAP50   \n                   all         48         86      0.509      0.521      0.586      0.271\n\n      Epoch    GPU_mem   box_loss   obj_loss   cls_loss  Instances       Size\n    153/199      1.29G    0.03105    0.04376    0.00957         19        640: 1\n                 Class     Images  Instances          P          R      mAP50   \n                   all         48         86      0.443      0.582      0.494      0.223\n\n      Epoch    GPU_mem   box_loss   obj_loss   cls_loss  Instances       Size\n    154/199      1.29G    0.02989    0.04076   0.009211         28        640: 1\n                 Class     Images  Instances          P          R      mAP50   \n                   all         48         86      0.421      0.483       0.45      0.205\n\n      Epoch    GPU_mem   box_loss   obj_loss   cls_loss  Instances       Size\n    155/199      1.29G    0.03352    0.04178   0.009276         28        640: 1\n                 Class     Images  Instances          P          R      mAP50   \n                   all         48         86      0.357      0.634      0.456      0.211\n\n      Epoch    GPU_mem   box_loss   obj_loss   cls_loss  Instances       Size\n    156/199      1.29G    0.02975    0.04284   0.009564         32        640: 1\n                 Class     Images  Instances          P          R      mAP50   \n                   all         48         86      0.431      0.602      0.462      0.219\n\n      Epoch    GPU_mem   box_loss   obj_loss   cls_loss  Instances       Size\n    157/199      1.29G    0.03226     0.0446   0.009219         24        640: 1\n                 Class     Images  Instances          P          R      mAP50   \n                   all         48         86      0.405      0.632      0.473      0.219\n\n      Epoch    GPU_mem   box_loss   obj_loss   cls_loss  Instances       Size\n    158/199      1.29G    0.03195    0.04354   0.008589         27        640: 1\n                 Class     Images  Instances          P          R      mAP50   \n                   all         48         86      0.418      0.647      0.489      0.212\n\n      Epoch    GPU_mem   box_loss   obj_loss   cls_loss  Instances       Size\n    159/199      1.29G    0.03064    0.04174   0.008192         19        640: 1\n                 Class     Images  Instances          P          R      mAP50   \n                   all         48         86      0.443      0.659      0.505      0.225\n\n      Epoch    GPU_mem   box_loss   obj_loss   cls_loss  Instances       Size\n    160/199      1.29G    0.03098    0.04399   0.008505         45        640: 1\n                 Class     Images  Instances          P          R      mAP50   \n                   all         48         86      0.433      0.642      0.499       0.22\n\n      Epoch    GPU_mem   box_loss   obj_loss   cls_loss  Instances       Size\n    161/199      1.29G    0.03179    0.04246   0.009515         28        640: 1\n                 Class     Images  Instances          P          R      mAP50   \n                   all         48         86      0.388      0.588      0.498      0.228\n\n      Epoch    GPU_mem   box_loss   obj_loss   cls_loss  Instances       Size\n    162/199      1.29G    0.02996    0.04148   0.009029         43        640: 1\n                 Class     Images  Instances          P          R      mAP50   \n                   all         48         86      0.434      0.599      0.519      0.238\n\n      Epoch    GPU_mem   box_loss   obj_loss   cls_loss  Instances       Size\n    163/199      1.29G    0.03188    0.04352   0.009526         38        640: 1\n                 Class     Images  Instances          P          R      mAP50   \n                   all         48         86      0.439      0.633      0.526      0.235\n\n      Epoch    GPU_mem   box_loss   obj_loss   cls_loss  Instances       Size\n    164/199      1.29G     0.0303    0.04498   0.006678         50        640:  ",
          "output_type": "stream"
        }
      ]
    },
    {
      "cell_type": "code",
      "source": [
        "import os\n",
        "\n",
        "def count_images_in_folder(folder_path):\n",
        "    total_images = 0\n",
        "    # Walk through all directories and subdirectories\n",
        "    for root, dirs, files in os.walk(folder_path):\n",
        "        # Iterate over files\n",
        "        for file in files:\n",
        "            # Check if the file is an image (you may need to adjust this condition)\n",
        "            if file.lower().endswith(('.png', '.jpg', '.jpeg', '.bmp', '.gif')):\n",
        "                total_images += 1\n",
        "\n",
        "    return total_images\n",
        "\n",
        "# Example usage\n",
        "folder_path = \"/kaggle/working/train\"\n",
        "total_images = count_images_in_folder(folder_path)\n",
        "print(f\"Total number of images in the folder: {total_images}\")\n"
      ],
      "metadata": {
        "execution": {
          "iopub.status.busy": "2024-03-26T09:44:22.494625Z",
          "iopub.execute_input": "2024-03-26T09:44:22.495483Z",
          "iopub.status.idle": "2024-03-26T09:44:22.504780Z",
          "shell.execute_reply.started": "2024-03-26T09:44:22.495447Z",
          "shell.execute_reply": "2024-03-26T09:44:22.503975Z"
        },
        "editable": false,
        "trusted": true,
        "id": "sRZRgTRQT1oI",
        "outputId": "f6a53919-f4fc-45a1-ef8d-0f29d151e53d"
      },
      "execution_count": null,
      "outputs": [
        {
          "name": "stdout",
          "text": "Total number of images in the folder: 472\n",
          "output_type": "stream"
        }
      ]
    },
    {
      "cell_type": "code",
      "source": [
        "!zip -r model_yolo5_leaf.zip /kaggle/working/yolov5/runs/train/exp3"
      ],
      "metadata": {
        "id": "40Y2s6d6FR7K",
        "colab": {
          "base_uri": "https://localhost:8080/"
        },
        "outputId": "9b13dfae-2b7d-42e7-b87e-26d48ea26125",
        "execution": {
          "iopub.status.busy": "2024-03-26T11:42:22.359647Z",
          "iopub.execute_input": "2024-03-26T11:42:22.360045Z",
          "iopub.status.idle": "2024-03-26T11:42:25.006135Z",
          "shell.execute_reply.started": "2024-03-26T11:42:22.360010Z",
          "shell.execute_reply": "2024-03-26T11:42:25.005247Z"
        },
        "editable": false,
        "trusted": true
      },
      "execution_count": null,
      "outputs": [
        {
          "name": "stdout",
          "text": "updating: kaggle/working/yolov5/runs/train/exp3/ (stored 0%)\nupdating: kaggle/working/yolov5/runs/train/exp3/val_batch0_labels.jpg (deflated 6%)\nupdating: kaggle/working/yolov5/runs/train/exp3/val_batch2_pred.jpg (deflated 12%)\nupdating: kaggle/working/yolov5/runs/train/exp3/val_batch0_pred.jpg (deflated 9%)\nupdating: kaggle/working/yolov5/runs/train/exp3/results.csv (deflated 83%)\nupdating: kaggle/working/yolov5/runs/train/exp3/val_batch1_labels.jpg (deflated 4%)\nupdating: kaggle/working/yolov5/runs/train/exp3/opt.yaml (deflated 50%)\nupdating: kaggle/working/yolov5/runs/train/exp3/results.png (deflated 6%)\nupdating: kaggle/working/yolov5/runs/train/exp3/R_curve.png (deflated 13%)\nupdating: kaggle/working/yolov5/runs/train/exp3/train_batch1.jpg (deflated 5%)\nupdating: kaggle/working/yolov5/runs/train/exp3/events.out.tfevents.1711450359.655ac4f0998a.12549.0 (deflated 28%)\nupdating: kaggle/working/yolov5/runs/train/exp3/labels.jpg (deflated 21%)\nupdating: kaggle/working/yolov5/runs/train/exp3/hyp.yaml (deflated 45%)\nupdating: kaggle/working/yolov5/runs/train/exp3/train_batch0.jpg (deflated 4%)\nupdating: kaggle/working/yolov5/runs/train/exp3/confusion_matrix.png (deflated 22%)\nupdating: kaggle/working/yolov5/runs/train/exp3/F1_curve.png (deflated 12%)\nupdating: kaggle/working/yolov5/runs/train/exp3/weights/ (stored 0%)\nupdating: kaggle/working/yolov5/runs/train/exp3/weights/last.pt (deflated 9%)\nupdating: kaggle/working/yolov5/runs/train/exp3/weights/best.pt (deflated 9%)\nupdating: kaggle/working/yolov5/runs/train/exp3/val_batch2_labels.jpg (deflated 9%)\nupdating: kaggle/working/yolov5/runs/train/exp3/P_curve.png (deflated 9%)\nupdating: kaggle/working/yolov5/runs/train/exp3/train_batch2.jpg (deflated 5%)\nupdating: kaggle/working/yolov5/runs/train/exp3/labels_correlogram.jpg (deflated 45%)\nupdating: kaggle/working/yolov5/runs/train/exp3/val_batch1_pred.jpg (deflated 5%)\nupdating: kaggle/working/yolov5/runs/train/exp3/PR_curve.png (deflated 13%)\n",
          "output_type": "stream"
        }
      ]
    },
    {
      "cell_type": "code",
      "source": [
        "!python detect.py --weights \"/kaggle/working/yolov5/runs/train/exp3/weights/best.pt\" --img 640 --conf 0.25 --source '/kaggle/working/test/images/Potato leaf early blight/backus-056-potato-blight.jpg' --save-txt --save-conf --exist-ok"
      ],
      "metadata": {
        "colab": {
          "base_uri": "https://localhost:8080/"
        },
        "id": "Eiv7cYjjCs4Z",
        "outputId": "a74fe2aa-bd03-4d84-bb00-7012e252f579",
        "execution": {
          "iopub.status.busy": "2024-03-26T11:51:07.144808Z",
          "iopub.execute_input": "2024-03-26T11:51:07.145227Z",
          "iopub.status.idle": "2024-03-26T11:51:17.461696Z",
          "shell.execute_reply.started": "2024-03-26T11:51:07.145191Z",
          "shell.execute_reply": "2024-03-26T11:51:17.460657Z"
        },
        "editable": false,
        "trusted": true
      },
      "execution_count": null,
      "outputs": [
        {
          "name": "stdout",
          "text": "\u001b[34m\u001b[1mdetect: \u001b[0mweights=['/kaggle/working/yolov5/runs/train/exp3/weights/best.pt'], source=/kaggle/working/test/images/Potato leaf early blight/backus-056-potato-blight.jpg, data=data/coco128.yaml, imgsz=[640, 640], conf_thres=0.25, iou_thres=0.45, max_det=1000, device=, view_img=False, save_txt=True, save_csv=False, save_conf=True, save_crop=False, nosave=False, classes=None, agnostic_nms=False, augment=False, visualize=False, update=False, project=runs/detect, name=exp, exist_ok=True, line_thickness=3, hide_labels=False, hide_conf=False, half=False, dnn=False, vid_stride=1\nYOLOv5 🚀 v7.0-295-gac6c4383 Python-3.10.13 torch-2.1.2 CUDA:0 (Tesla T4, 15102MiB)\n\nFusing layers... \nModel summary: 157 layers, 7023610 parameters, 0 gradients, 15.8 GFLOPs\nimage 1/1 /kaggle/working/test/images/Potato leaf early blight/backus-056-potato-blight.jpg: 480x640 2 Potato leaf early blights, 49.7ms\nSpeed: 0.7ms pre-process, 49.7ms inference, 455.0ms NMS per image at shape (1, 3, 640, 640)\nResults saved to \u001b[1mruns/detect/exp\u001b[0m\n2 labels saved to runs/detect/exp/labels\n",
          "output_type": "stream"
        }
      ]
    },
    {
      "cell_type": "code",
      "source": [
        "import os\n",
        "\n",
        "# Directory containing folders\n",
        "directory = '/content/train/images'\n",
        "\n",
        "# List to store folder names\n",
        "folder_names = []\n",
        "\n",
        "# Iterate over items in the directory\n",
        "for item in os.listdir(directory):\n",
        "    # Check if the item is a directory\n",
        "    if os.path.isdir(os.path.join(directory, item)):\n",
        "        folder_names.append(item)\n",
        "\n",
        "# Print the list of folder names\n",
        "print(folder_names)\n"
      ],
      "metadata": {
        "id": "iXCfvTZ-EASm",
        "editable": false
      },
      "execution_count": null,
      "outputs": []
    },
    {
      "cell_type": "code",
      "source": [
        "directory = '/content/train/images'\n",
        "\n",
        "len(os.listdir(directory))\n"
      ],
      "metadata": {
        "id": "VAIOxMawSdtF",
        "editable": false
      },
      "execution_count": null,
      "outputs": []
    },
    {
      "cell_type": "code",
      "source": [
        "len(os.listdir(\"/content/train/labels\"))"
      ],
      "metadata": {
        "id": "2YWr_4UKSnPa",
        "editable": false
      },
      "execution_count": null,
      "outputs": []
    },
    {
      "cell_type": "code",
      "source": [
        "list1 = os.listdir('/content/test/images')\n",
        "list2 = os.listdir('/content/test/labels')\n",
        "\n",
        "# Find elements in list1 that are not in list2\n",
        "only_in_list1 = [item for item in list1 if item not in list2]\n",
        "\n",
        "# Find elements in list2 that are not in list1\n",
        "only_in_list2 = [item for item in list2 if item not in list1]\n",
        "\n",
        "print(\"Elements only in list1:\", only_in_list1)\n",
        "print(\"Elements only in list2:\", only_in_list2)\n"
      ],
      "metadata": {
        "id": "W57CPeAOT7T_",
        "editable": false
      },
      "execution_count": null,
      "outputs": []
    },
    {
      "cell_type": "code",
      "source": [
        "import os\n",
        "import shutil\n",
        "\n",
        "# Define the paths of the folders to be deleted\n",
        "folder1_path = '/content/train/images/Apple Scab Leaf.cache'\n",
        "folder2_path = '/content/train/images/Potato leaf'\n",
        "\n",
        "# Check if the folders exist\n",
        "if os.path.exists(folder1_path):\n",
        "    # Remove the first folder\n",
        "    shutil.rmtree(folder1_path)\n",
        "    print(f\"Folder {folder1_path} deleted successfully.\")\n",
        "else:\n",
        "    print(f\"Folder {folder1_path} does not exist.\")\n",
        "\n",
        "if os.path.exists(folder2_path):\n",
        "    # Remove the second folder\n",
        "    shutil.rmtree(folder2_path)\n",
        "    print(f\"Folder {folder2_path} deleted successfully.\")\n",
        "else:\n",
        "    print(f\"Folder {folder2_path} does not exist.\")\n"
      ],
      "metadata": {
        "id": "4R5nO0PAYuvD",
        "editable": false
      },
      "execution_count": null,
      "outputs": []
    },
    {
      "cell_type": "code",
      "source": [
        "ls"
      ],
      "metadata": {
        "id": "3mffDdKSZg8q",
        "editable": false
      },
      "execution_count": null,
      "outputs": []
    },
    {
      "cell_type": "code",
      "source": [
        "import os\n",
        "\n",
        "# Path to the directory containing the folders\n",
        "directory_path = '/content/train/images'\n",
        "\n",
        "# Get a list of all folder names in the directory\n",
        "folder_names = [folder_name for folder_name in os.listdir(directory_path) if os.path.isdir(os.path.join(directory_path, folder_name))]\n",
        "\n",
        "# Print the list of folder names\n",
        "print(folder_names)\n"
      ],
      "metadata": {
        "id": "jIZh9HABZvTq",
        "editable": false
      },
      "execution_count": null,
      "outputs": []
    },
    {
      "cell_type": "code",
      "source": [
        "import os\n",
        "\n",
        "# Path to the directory containing the folders\n",
        "directory_path = '/content/train/images'\n",
        "\n",
        "# Get a list of all folder names in the directory\n",
        "folder_names = sorted([folder_name for folder_name in os.listdir(directory_path) if os.path.isdir(os.path.join(directory_path, folder_name))])\n",
        "\n",
        "# Print the list of folder names\n",
        "print(folder_names)\n"
      ],
      "metadata": {
        "id": "MrYUMKp_c9lZ",
        "editable": false
      },
      "execution_count": null,
      "outputs": []
    },
    {
      "cell_type": "code",
      "source": [
        "folder_names"
      ],
      "metadata": {
        "id": "d-2CNd5sdGm6",
        "editable": false
      },
      "execution_count": null,
      "outputs": []
    },
    {
      "cell_type": "code",
      "source": [
        "len(train: /content/train/images\n",
        ")"
      ],
      "metadata": {
        "id": "9QEi8HjZdMGu",
        "editable": false
      },
      "execution_count": null,
      "outputs": []
    },
    {
      "cell_type": "code",
      "source": [],
      "metadata": {
        "id": "3o1qK0Dfq-Wz",
        "editable": false
      },
      "execution_count": null,
      "outputs": []
    }
  ]
}